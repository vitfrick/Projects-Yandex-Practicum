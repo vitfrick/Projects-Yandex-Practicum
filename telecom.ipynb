{
 "cells": [
  {
   "cell_type": "markdown",
   "metadata": {},
   "source": [
    "# Проект «Телеком». Поиск неэффективных операторов."
   ]
  },
  {
   "cell_type": "markdown",
   "metadata": {},
   "source": [
    "## Материалы:\n",
    "\n",
    "Презентация:   \n",
    "\n",
    "<a href=\"https://disk.yandex.ru/i/Ekzow1MBsv8JIg\"> Проект «Телеком». Поиск неэффективных операторов<b>.pptx</b></a>  \n",
    "\n",
    "\n",
    "<a href=\"https://disk.yandex.ru/i/WWuKD9eOZPLe_A\"> Проект «Телеком». Поиск неэффективных операторов<b>.pdf</b></a>\n",
    "\n",
    "\n",
    "Дашборд:   \n",
    "<a href=\"https://public.tableau.com/views/Final_proekt_Telecom/Dashboard1?:language=en-US&:display_count=n&:origin=viz_share_link\"> Проект «Телеком». Поиск неэффективных операторов<b>.pdf</b></a>"
   ]
  },
  {
   "cell_type": "markdown",
   "metadata": {},
   "source": [
    "## Задача\n",
    "\n",
    "Необходимо определить признаки низкой эффективности опраторов и  помочь заказчику «Нупозвони» найти неэффективных сотрудников у его клиентов (колл-центров). Исследование нужно для разработки нового функционала. Выявление неэффективных сотрудников позволит в дальнейшем увеличить ценность сервиса для клиента, а значит потенциально увеличит время жизни клиента."
   ]
  },
  {
   "cell_type": "markdown",
   "metadata": {},
   "source": [
    "## Описание данных  \n",
    "\n",
    "\n",
    "Датасеты описывают использование услуг «Нупозвони» — провайдера виртуальный телефонии. Его клиенты — колл-центры, которые: \n",
    "\n",
    "- распределяют входящие вызовы на операторов,\n",
    "- совершают исходящие вызовы силами операторов.\n",
    "\n",
    "Также операторы могут делать внутренние вызовы —  вызовы друг между другом внутри сети виртуальной телефонии.\n",
    "\n",
    "Колонки в `telecom_dataset.csv`:\n",
    "\n",
    "- `user_id` — Идентификатор клиентского аккаунта в сервисе\n",
    "- `date` — Дата статистики\n",
    "- `direction` — Направление вызовов (out - исходящий вызов, in — входящий вызов)\n",
    "- `internal` — Является ли звонок внутренним звонком между операторами клиента\n",
    "- `operator_id` — Идентификатор оператора\n",
    "- `is_missed_call` — Является ли звонок пропущенным\n",
    "- `calls_count` — Количество звонков\n",
    "- `call_duration` — Длительность звонка (без учета времени ожидания)\n",
    "- `total_call_duration` — Длительность звонка (с учетом времени ожидания)\n",
    "\n",
    "Колонки в `telecom_clients.csv`:\n",
    "\n",
    "- `user_id` — Идентификатор клиентского аккаунта в сервисе\n",
    "- `tariff_plan` — Текущий тарифный план клиента\n",
    "- `date_start` — Дата регистрации клиентв в сервисе"
   ]
  },
  {
   "cell_type": "markdown",
   "metadata": {},
   "source": [
    "## План работы\n",
    "\n",
    "### Шаг 1. Загрузка и изучение данных из файлов.\n",
    "### Шаг 2. Подготовка данных к исследованию.   \n",
    "- Предобработка данных: проверить и обработать пропуски и типы данных. \n",
    "\n",
    "- Провести категоризация колл-центров. Разбить на те, что распределяют входящие вызовы по своим операторам и те, что обеспечивают исходящие вызовы от операторов.   \n",
    "  Разделение колл-центров проведем по значению агрегированного параметра `Длительность звонка (без учета времени ожидания)`. Для колл-центров, которые распределяют входящие звонки по своим операторам суммарная длительность звонков направления вызовов `in` будет преобладать над суммарной длительностью звонков направления вызовов `out`. И наоборот.   \n",
    "\n",
    "\n",
    "\n",
    "### Шаг 3. Исследовательский анализ.  \n",
    "- Изучить следующие параметры: \n",
    "   - количество входящих вызовов и число пропущенных из них,\n",
    "   - время ожидания ответа при входящих внешних вызовах, \n",
    "   - число исходящих вызовов, \n",
    "   - долю внутренних вызовов,\n",
    "   - определить распределение нагрузки на операторов по времени суток и дням недели,\n",
    "   - проанализировать количества клиентов и их динамику использования услуг провайдера, определить топ-клиентов для заказчика.\n",
    "- Построить гистограммы для каждого параметра. Посчитать средние значения и медианы.  \n",
    "- Определить редкие и выбивающиеся значения, определиться как поступить с выбросами.  \n",
    "\n",
    "\n",
    "### Шаг 4. Изучить результаты анализа.\n",
    "- Выбрать и предложить возможные критерии неэффективности операторов.  \n",
    "      \n",
    "  Критерии для Отзванивающихся колл-центров:\n",
    "   - среднее количество звонков совершенное оператором в единицу времени (в час). Предварительно минимумом считаем 70% от среднего показателя количества звонков по колл-центру.   \n",
    "   - доля успешных звонков у оператора. Предварительно минимальный порог закладываем 70% от среднего показателя доли успешных звонков по колл-центру.   \n",
    "          \n",
    "  Критерии для Принимающих звонки колл-центров:\n",
    "   - время ожидания звонка. Также закладываем максимальный порог по колл-центру для определения эффективности. Предварительно не более 30% превышения среднего показателя ожидания по колл-центру. \n",
    "   - доля пропущенных звонков. Предварительно максимально допустимой долей пропусков считаем  10% от общего количества принятых оператором звонков.\n",
    "    \n",
    "   Проценты порогов единые для модели, но могут скорректироваться при изучении. Все пороговые показатели критериев операторов расчитываем для каждого колл-центра. \n",
    "    \n",
    "\n",
    "- Получить список неэффективных операторов.\n",
    "- Посмотреть у каких клиентов есть проблемы с эффективностью операторов.\n",
    "- Определить на сколько мы можем помочь клиентам увеличить эффективность операторов, определяя вовремя неэффективных.\n",
    " \n",
    "### Шаг 5. Проверка статистических гипотез.  \n",
    "- Первая гипотеза \n",
    "  - Нулевая гипотеза - средняя продолжительность исходящих вызовов равна средней продолжительности входящих вызовов \n",
    "  - Альтернативная гипотеза - средняя продолжительность исходящих вызовов меньше средней продолжительности входящих вызовов \n",
    "- Вторая гипотеза  \n",
    "  - Нулевая гипотеза - среднее количество вызовов в выходные дни равно среднему количеству вызовов в будни.\n",
    "  - Альтернативная гипотеза - среднее количество вызовов в выходные дни не равно среднему количеству вызовов в будни.\n",
    "  \n",
    "\n",
    "### Шаг 6. Выводы и рекомендации для заказчика.\n",
    "- Определить масштабы проблемы неэффективных операторов и необходимость в новом алгоритме.\n",
    "- Предложить пути решения проблемы неэффективности: методы регулярного выявления неэффективных операторов и общего повышения эффективности работы.\n",
    "\n",
    "### Шаг 7. Ссылки на презентацию и дашборд."
   ]
  },
  {
   "cell_type": "markdown",
   "metadata": {},
   "source": [
    "<b>Содержание:</b>\n",
    "\n",
    "<div class=\"toc\"><ul class=\"toc-item\"><li><span><a href=\"#1.-Загрузка-и-изучение-данных-из-файлов.\" data-toc-modified-id=\"1. Загрузка и изучение данных из файлов.\"><span class=\"toc-item-num\"></span>1. Загрузка и изучение данных из файлов.</a></span>\n",
    "    \n",
    "<li><span><a href=\"#2.-Подготовка-данных-к-исследованию.\" data-toc-modified-id=\"2. Подготовка данных к исследованию.\"><span class=\"toc-item-num\"></span>2. Подготовка данных к исследованию.</a></span></li>\n",
    "\n",
    "<li><span><a href=\"#3.-Исследовательский-анализ.\" data-toc-modified-id=\"3. Исследовательский анализ.\"><span class=\"toc-item-num\"></span>3. Исследовательский анализ.</a></span></li> \n",
    "    \n",
    "<li><span><a href=\"#4.-Изучение-результатов-анализа.\" data-toc-modified-id=\"4. Изучение результатов анализа.\"><span class=\"toc-item-num\"> </span>4. Изучение результатов анализа.</a></span></li> \n",
    "    \n",
    "<li><span><a href=\"#5.-Проверка-статистических-гипотез.\" data-toc-modified-id=\"5. Проверка статистических гипотез.\"><span class=\"toc-item-num\"> </span>5. Проверка статистических гипотез.</a></span></li> \n",
    "    \n",
    "<li><span><a href=\"#6.-Выводы-и-рекомендации-для-заказчика.\" data-toc-modified-id=\"6. Выводы и рекомендации для заказчика.\"><span class=\"toc-item-num\"> </span>6. Выводы и рекомендации для заказчика.</a></span></li> \n",
    "    \n",
    "<li><span><a href=\"#7.-Ссылки-на-презентацию-и-дашборд.\" data-toc-modified-id=\"7. Ссылки на презентацию и дашборд.\"><span class=\"toc-item-num\"> </span>7. Ссылки на презентацию и дашборд.</a></span></li>    \n",
    "             \n",
    "</div> "
   ]
  },
  {
   "cell_type": "markdown",
   "metadata": {},
   "source": [
    "###  1. Загрузка и изучение данных из файлов."
   ]
  },
  {
   "cell_type": "code",
   "execution_count": 1,
   "metadata": {},
   "outputs": [],
   "source": [
    "# импорт библиотек \n",
    "import os\n",
    "import pandas as pd\n",
    "import seaborn as sns\n",
    "import datetime as dt\n",
    "import matplotlib.pyplot as plt\n",
    "import numpy as np\n",
    "from scipy import stats as st"
   ]
  },
  {
   "cell_type": "code",
   "execution_count": 2,
   "metadata": {},
   "outputs": [],
   "source": [
    "# настроим ширину столбцов таблиц и убираем печать предупреждений\n",
    "\n",
    "pd.set_option(\"max_colwidth\", 150) \n",
    "\n",
    "pd.options.mode.chained_assignment = None   \n",
    "import warnings\n",
    "warnings.simplefilter(action='ignore', category=FutureWarning)"
   ]
  },
  {
   "cell_type": "code",
   "execution_count": 3,
   "metadata": {},
   "outputs": [],
   "source": [
    "# функция чтение файлов \n",
    "def read_file(file_name):\n",
    "    path1 = os.path.join('/datasets', file_name)\n",
    "    path2 = os.path.join(file_name)\n",
    "    if os.path.exists(path1):\n",
    "        df = pd.read_csv(path1)\n",
    "        return df\n",
    "    elif os.path.exists(path2):\n",
    "        df = pd.read_csv(path2)\n",
    "        return df\n",
    "    else:\n",
    "        print('Файл', file_name,'не найден')"
   ]
  },
  {
   "cell_type": "code",
   "execution_count": 4,
   "metadata": {},
   "outputs": [],
   "source": [
    "# чтение файла с данными \n",
    "data = read_file('telecom_dataset.csv')\n",
    "clients = read_file('telecom_clients.csv')"
   ]
  },
  {
   "cell_type": "code",
   "execution_count": 5,
   "metadata": {},
   "outputs": [
    {
     "name": "stdout",
     "output_type": "stream",
     "text": [
      "<class 'pandas.core.frame.DataFrame'>\n",
      "RangeIndex: 53902 entries, 0 to 53901\n",
      "Data columns (total 9 columns):\n",
      " #   Column               Non-Null Count  Dtype  \n",
      "---  ------               --------------  -----  \n",
      " 0   user_id              53902 non-null  int64  \n",
      " 1   date                 53902 non-null  object \n",
      " 2   direction            53902 non-null  object \n",
      " 3   internal             53785 non-null  object \n",
      " 4   operator_id          45730 non-null  float64\n",
      " 5   is_missed_call       53902 non-null  bool   \n",
      " 6   calls_count          53902 non-null  int64  \n",
      " 7   call_duration        53902 non-null  int64  \n",
      " 8   total_call_duration  53902 non-null  int64  \n",
      "dtypes: bool(1), float64(1), int64(4), object(3)\n",
      "memory usage: 3.3+ MB\n"
     ]
    },
    {
     "data": {
      "text/html": [
       "<div>\n",
       "<style scoped>\n",
       "    .dataframe tbody tr th:only-of-type {\n",
       "        vertical-align: middle;\n",
       "    }\n",
       "\n",
       "    .dataframe tbody tr th {\n",
       "        vertical-align: top;\n",
       "    }\n",
       "\n",
       "    .dataframe thead th {\n",
       "        text-align: right;\n",
       "    }\n",
       "</style>\n",
       "<table border=\"1\" class=\"dataframe\">\n",
       "  <thead>\n",
       "    <tr style=\"text-align: right;\">\n",
       "      <th></th>\n",
       "      <th>user_id</th>\n",
       "      <th>date</th>\n",
       "      <th>direction</th>\n",
       "      <th>internal</th>\n",
       "      <th>operator_id</th>\n",
       "      <th>is_missed_call</th>\n",
       "      <th>calls_count</th>\n",
       "      <th>call_duration</th>\n",
       "      <th>total_call_duration</th>\n",
       "    </tr>\n",
       "  </thead>\n",
       "  <tbody>\n",
       "    <tr>\n",
       "      <th>0</th>\n",
       "      <td>166377</td>\n",
       "      <td>2019-08-04 00:00:00+03:00</td>\n",
       "      <td>in</td>\n",
       "      <td>False</td>\n",
       "      <td>NaN</td>\n",
       "      <td>True</td>\n",
       "      <td>2</td>\n",
       "      <td>0</td>\n",
       "      <td>4</td>\n",
       "    </tr>\n",
       "    <tr>\n",
       "      <th>1</th>\n",
       "      <td>166377</td>\n",
       "      <td>2019-08-05 00:00:00+03:00</td>\n",
       "      <td>out</td>\n",
       "      <td>True</td>\n",
       "      <td>880022.0</td>\n",
       "      <td>True</td>\n",
       "      <td>3</td>\n",
       "      <td>0</td>\n",
       "      <td>5</td>\n",
       "    </tr>\n",
       "    <tr>\n",
       "      <th>2</th>\n",
       "      <td>166377</td>\n",
       "      <td>2019-08-05 00:00:00+03:00</td>\n",
       "      <td>out</td>\n",
       "      <td>True</td>\n",
       "      <td>880020.0</td>\n",
       "      <td>True</td>\n",
       "      <td>1</td>\n",
       "      <td>0</td>\n",
       "      <td>1</td>\n",
       "    </tr>\n",
       "    <tr>\n",
       "      <th>3</th>\n",
       "      <td>166377</td>\n",
       "      <td>2019-08-05 00:00:00+03:00</td>\n",
       "      <td>out</td>\n",
       "      <td>True</td>\n",
       "      <td>880020.0</td>\n",
       "      <td>False</td>\n",
       "      <td>1</td>\n",
       "      <td>10</td>\n",
       "      <td>18</td>\n",
       "    </tr>\n",
       "    <tr>\n",
       "      <th>4</th>\n",
       "      <td>166377</td>\n",
       "      <td>2019-08-05 00:00:00+03:00</td>\n",
       "      <td>out</td>\n",
       "      <td>False</td>\n",
       "      <td>880022.0</td>\n",
       "      <td>True</td>\n",
       "      <td>3</td>\n",
       "      <td>0</td>\n",
       "      <td>25</td>\n",
       "    </tr>\n",
       "  </tbody>\n",
       "</table>\n",
       "</div>"
      ],
      "text/plain": [
       "   user_id                       date direction internal  operator_id  \\\n",
       "0   166377  2019-08-04 00:00:00+03:00        in    False          NaN   \n",
       "1   166377  2019-08-05 00:00:00+03:00       out     True     880022.0   \n",
       "2   166377  2019-08-05 00:00:00+03:00       out     True     880020.0   \n",
       "3   166377  2019-08-05 00:00:00+03:00       out     True     880020.0   \n",
       "4   166377  2019-08-05 00:00:00+03:00       out    False     880022.0   \n",
       "\n",
       "   is_missed_call  calls_count  call_duration  total_call_duration  \n",
       "0            True            2              0                    4  \n",
       "1            True            3              0                    5  \n",
       "2            True            1              0                    1  \n",
       "3           False            1             10                   18  \n",
       "4            True            3              0                   25  "
      ]
     },
     "execution_count": 5,
     "metadata": {},
     "output_type": "execute_result"
    }
   ],
   "source": [
    "# вывод info по файлу и вывод  первых 5 строк таблицы\n",
    "data.info()\n",
    "data.head()"
   ]
  },
  {
   "cell_type": "code",
   "execution_count": 6,
   "metadata": {},
   "outputs": [
    {
     "name": "stdout",
     "output_type": "stream",
     "text": [
      "<class 'pandas.core.frame.DataFrame'>\n",
      "RangeIndex: 732 entries, 0 to 731\n",
      "Data columns (total 3 columns):\n",
      " #   Column       Non-Null Count  Dtype \n",
      "---  ------       --------------  ----- \n",
      " 0   user_id      732 non-null    int64 \n",
      " 1   tariff_plan  732 non-null    object\n",
      " 2   date_start   732 non-null    object\n",
      "dtypes: int64(1), object(2)\n",
      "memory usage: 17.3+ KB\n"
     ]
    },
    {
     "data": {
      "text/html": [
       "<div>\n",
       "<style scoped>\n",
       "    .dataframe tbody tr th:only-of-type {\n",
       "        vertical-align: middle;\n",
       "    }\n",
       "\n",
       "    .dataframe tbody tr th {\n",
       "        vertical-align: top;\n",
       "    }\n",
       "\n",
       "    .dataframe thead th {\n",
       "        text-align: right;\n",
       "    }\n",
       "</style>\n",
       "<table border=\"1\" class=\"dataframe\">\n",
       "  <thead>\n",
       "    <tr style=\"text-align: right;\">\n",
       "      <th></th>\n",
       "      <th>user_id</th>\n",
       "      <th>tariff_plan</th>\n",
       "      <th>date_start</th>\n",
       "    </tr>\n",
       "  </thead>\n",
       "  <tbody>\n",
       "    <tr>\n",
       "      <th>0</th>\n",
       "      <td>166713</td>\n",
       "      <td>A</td>\n",
       "      <td>2019-08-15</td>\n",
       "    </tr>\n",
       "    <tr>\n",
       "      <th>1</th>\n",
       "      <td>166901</td>\n",
       "      <td>A</td>\n",
       "      <td>2019-08-23</td>\n",
       "    </tr>\n",
       "    <tr>\n",
       "      <th>2</th>\n",
       "      <td>168527</td>\n",
       "      <td>A</td>\n",
       "      <td>2019-10-29</td>\n",
       "    </tr>\n",
       "    <tr>\n",
       "      <th>3</th>\n",
       "      <td>167097</td>\n",
       "      <td>A</td>\n",
       "      <td>2019-09-01</td>\n",
       "    </tr>\n",
       "    <tr>\n",
       "      <th>4</th>\n",
       "      <td>168193</td>\n",
       "      <td>A</td>\n",
       "      <td>2019-10-16</td>\n",
       "    </tr>\n",
       "  </tbody>\n",
       "</table>\n",
       "</div>"
      ],
      "text/plain": [
       "   user_id tariff_plan  date_start\n",
       "0   166713           A  2019-08-15\n",
       "1   166901           A  2019-08-23\n",
       "2   168527           A  2019-10-29\n",
       "3   167097           A  2019-09-01\n",
       "4   168193           A  2019-10-16"
      ]
     },
     "execution_count": 6,
     "metadata": {},
     "output_type": "execute_result"
    }
   ],
   "source": [
    "# вывод info по файлу и вывод  первых 5 строк таблицы\n",
    "\n",
    "clients.info()\n",
    "clients.head()"
   ]
  },
  {
   "cell_type": "markdown",
   "metadata": {},
   "source": [
    "Изучив данные выявили следующие проблемы.\n",
    "1. Имеются пропуски в таблице `telecom_dataset`  в `internal` и `operator_id`.\n",
    "2. Неверные типы данных в таблице `telecom_dataset` у `date` и `internal`.\n",
    "3. Неверные типы данных в таблице `telecom_clients` у `date_start`.\n",
    "  \n",
    "Устраним на следующем шаге.  "
   ]
  },
  {
   "cell_type": "markdown",
   "metadata": {},
   "source": [
    "### 2. Подготовка данных к исследованию."
   ]
  },
  {
   "cell_type": "markdown",
   "metadata": {},
   "source": [
    "####  2.1. Предобработка данных."
   ]
  },
  {
   "cell_type": "code",
   "execution_count": 7,
   "metadata": {},
   "outputs": [
    {
     "data": {
      "text/plain": [
       "user_id                   0\n",
       "date                      0\n",
       "direction                 0\n",
       "internal                117\n",
       "operator_id            8172\n",
       "is_missed_call            0\n",
       "calls_count               0\n",
       "call_duration             0\n",
       "total_call_duration       0\n",
       "dtype: int64"
      ]
     },
     "execution_count": 7,
     "metadata": {},
     "output_type": "execute_result"
    }
   ],
   "source": [
    "# Проверяем на пропуски\n",
    "data.isna().sum() "
   ]
  },
  {
   "cell_type": "code",
   "execution_count": 8,
   "metadata": {
    "scrolled": true
   },
   "outputs": [
    {
     "data": {
      "text/html": [
       "<div>\n",
       "<style scoped>\n",
       "    .dataframe tbody tr th:only-of-type {\n",
       "        vertical-align: middle;\n",
       "    }\n",
       "\n",
       "    .dataframe tbody tr th {\n",
       "        vertical-align: top;\n",
       "    }\n",
       "\n",
       "    .dataframe thead th {\n",
       "        text-align: right;\n",
       "    }\n",
       "</style>\n",
       "<table border=\"1\" class=\"dataframe\">\n",
       "  <thead>\n",
       "    <tr style=\"text-align: right;\">\n",
       "      <th></th>\n",
       "      <th>user_id</th>\n",
       "      <th>date</th>\n",
       "      <th>direction</th>\n",
       "      <th>internal</th>\n",
       "      <th>operator_id</th>\n",
       "      <th>is_missed_call</th>\n",
       "      <th>calls_count</th>\n",
       "      <th>call_duration</th>\n",
       "      <th>total_call_duration</th>\n",
       "    </tr>\n",
       "  </thead>\n",
       "  <tbody>\n",
       "    <tr>\n",
       "      <th>0</th>\n",
       "      <td>166377</td>\n",
       "      <td>2019-08-04 00:00:00+03:00</td>\n",
       "      <td>in</td>\n",
       "      <td>False</td>\n",
       "      <td>NaN</td>\n",
       "      <td>True</td>\n",
       "      <td>2</td>\n",
       "      <td>0</td>\n",
       "      <td>4</td>\n",
       "    </tr>\n",
       "    <tr>\n",
       "      <th>7</th>\n",
       "      <td>166377</td>\n",
       "      <td>2019-08-05 00:00:00+03:00</td>\n",
       "      <td>in</td>\n",
       "      <td>False</td>\n",
       "      <td>NaN</td>\n",
       "      <td>True</td>\n",
       "      <td>6</td>\n",
       "      <td>0</td>\n",
       "      <td>35</td>\n",
       "    </tr>\n",
       "    <tr>\n",
       "      <th>9</th>\n",
       "      <td>166377</td>\n",
       "      <td>2019-08-06 00:00:00+03:00</td>\n",
       "      <td>in</td>\n",
       "      <td>False</td>\n",
       "      <td>NaN</td>\n",
       "      <td>True</td>\n",
       "      <td>4</td>\n",
       "      <td>0</td>\n",
       "      <td>62</td>\n",
       "    </tr>\n",
       "    <tr>\n",
       "      <th>17</th>\n",
       "      <td>166377</td>\n",
       "      <td>2019-08-07 00:00:00+03:00</td>\n",
       "      <td>in</td>\n",
       "      <td>False</td>\n",
       "      <td>NaN</td>\n",
       "      <td>True</td>\n",
       "      <td>2</td>\n",
       "      <td>0</td>\n",
       "      <td>24</td>\n",
       "    </tr>\n",
       "    <tr>\n",
       "      <th>27</th>\n",
       "      <td>166377</td>\n",
       "      <td>2019-08-12 00:00:00+03:00</td>\n",
       "      <td>in</td>\n",
       "      <td>False</td>\n",
       "      <td>NaN</td>\n",
       "      <td>True</td>\n",
       "      <td>2</td>\n",
       "      <td>0</td>\n",
       "      <td>34</td>\n",
       "    </tr>\n",
       "    <tr>\n",
       "      <th>28</th>\n",
       "      <td>166377</td>\n",
       "      <td>2019-08-12 00:00:00+03:00</td>\n",
       "      <td>in</td>\n",
       "      <td>False</td>\n",
       "      <td>NaN</td>\n",
       "      <td>True</td>\n",
       "      <td>2</td>\n",
       "      <td>0</td>\n",
       "      <td>34</td>\n",
       "    </tr>\n",
       "    <tr>\n",
       "      <th>30</th>\n",
       "      <td>166377</td>\n",
       "      <td>2019-08-13 00:00:00+03:00</td>\n",
       "      <td>in</td>\n",
       "      <td>False</td>\n",
       "      <td>NaN</td>\n",
       "      <td>True</td>\n",
       "      <td>7</td>\n",
       "      <td>0</td>\n",
       "      <td>128</td>\n",
       "    </tr>\n",
       "    <tr>\n",
       "      <th>38</th>\n",
       "      <td>166377</td>\n",
       "      <td>2019-08-14 00:00:00+03:00</td>\n",
       "      <td>in</td>\n",
       "      <td>False</td>\n",
       "      <td>NaN</td>\n",
       "      <td>True</td>\n",
       "      <td>1</td>\n",
       "      <td>0</td>\n",
       "      <td>3</td>\n",
       "    </tr>\n",
       "    <tr>\n",
       "      <th>45</th>\n",
       "      <td>166377</td>\n",
       "      <td>2019-08-14 00:00:00+03:00</td>\n",
       "      <td>in</td>\n",
       "      <td>False</td>\n",
       "      <td>NaN</td>\n",
       "      <td>True</td>\n",
       "      <td>1</td>\n",
       "      <td>0</td>\n",
       "      <td>3</td>\n",
       "    </tr>\n",
       "    <tr>\n",
       "      <th>77</th>\n",
       "      <td>166377</td>\n",
       "      <td>2019-08-22 00:00:00+03:00</td>\n",
       "      <td>in</td>\n",
       "      <td>False</td>\n",
       "      <td>NaN</td>\n",
       "      <td>True</td>\n",
       "      <td>1</td>\n",
       "      <td>0</td>\n",
       "      <td>1</td>\n",
       "    </tr>\n",
       "  </tbody>\n",
       "</table>\n",
       "</div>"
      ],
      "text/plain": [
       "    user_id                       date direction internal  operator_id  \\\n",
       "0    166377  2019-08-04 00:00:00+03:00        in    False          NaN   \n",
       "7    166377  2019-08-05 00:00:00+03:00        in    False          NaN   \n",
       "9    166377  2019-08-06 00:00:00+03:00        in    False          NaN   \n",
       "17   166377  2019-08-07 00:00:00+03:00        in    False          NaN   \n",
       "27   166377  2019-08-12 00:00:00+03:00        in    False          NaN   \n",
       "28   166377  2019-08-12 00:00:00+03:00        in    False          NaN   \n",
       "30   166377  2019-08-13 00:00:00+03:00        in    False          NaN   \n",
       "38   166377  2019-08-14 00:00:00+03:00        in    False          NaN   \n",
       "45   166377  2019-08-14 00:00:00+03:00        in    False          NaN   \n",
       "77   166377  2019-08-22 00:00:00+03:00        in    False          NaN   \n",
       "\n",
       "    is_missed_call  calls_count  call_duration  total_call_duration  \n",
       "0             True            2              0                    4  \n",
       "7             True            6              0                   35  \n",
       "9             True            4              0                   62  \n",
       "17            True            2              0                   24  \n",
       "27            True            2              0                   34  \n",
       "28            True            2              0                   34  \n",
       "30            True            7              0                  128  \n",
       "38            True            1              0                    3  \n",
       "45            True            1              0                    3  \n",
       "77            True            1              0                    1  "
      ]
     },
     "execution_count": 8,
     "metadata": {},
     "output_type": "execute_result"
    }
   ],
   "source": [
    "# отображение строк таблицы с пропусками в столбце internal\n",
    "data[pd.isnull(data['operator_id'])].head(10)"
   ]
  },
  {
   "cell_type": "code",
   "execution_count": 9,
   "metadata": {},
   "outputs": [
    {
     "data": {
      "text/plain": [
       "0.15160847463915997"
      ]
     },
     "execution_count": 9,
     "metadata": {},
     "output_type": "execute_result"
    }
   ],
   "source": [
    "data['operator_id'].isna().mean() "
   ]
  },
  {
   "cell_type": "markdown",
   "metadata": {},
   "source": [
    "15% значений `operator_id` не заполнены.  Изучим пропуски  в столбце `operator_id` на предмет является ли вызовы с незаполненными значениями оператора пропущенными вызовами."
   ]
  },
  {
   "cell_type": "code",
   "execution_count": 10,
   "metadata": {},
   "outputs": [
    {
     "data": {
      "text/plain": [
       "True     8050\n",
       "False     122\n",
       "Name: is_missed_call, dtype: int64"
      ]
     },
     "execution_count": 10,
     "metadata": {},
     "output_type": "execute_result"
    }
   ],
   "source": [
    "data['is_missed_call'][pd.isnull(data['operator_id'])].value_counts()"
   ]
  },
  {
   "cell_type": "markdown",
   "metadata": {},
   "source": [
    "Пропущенными являются 8050 вызовов. Назначим в данных записях параметру `operator_id` значение 0. Будем считать в дальнейшем, что данным вызовам не был назначен оператор, вероятнее всего в связи с занятостью всех операторов.  "
   ]
  },
  {
   "cell_type": "code",
   "execution_count": 11,
   "metadata": {},
   "outputs": [
    {
     "data": {
      "text/plain": [
       "user_id                  0\n",
       "date                     0\n",
       "direction                0\n",
       "internal               117\n",
       "operator_id            122\n",
       "is_missed_call           0\n",
       "calls_count              0\n",
       "call_duration            0\n",
       "total_call_duration      0\n",
       "dtype: int64"
      ]
     },
     "execution_count": 11,
     "metadata": {},
     "output_type": "execute_result"
    }
   ],
   "source": [
    "# присвом значение 0 пропущенным значениям `operator_id` c пропущенными вызовами\n",
    "\n",
    "index = data.operator_id.isna()\n",
    "data.operator_id[index]=np.where(data.is_missed_call[index]==True, 0, data.operator_id[index])\n",
    "data.isna().sum() "
   ]
  },
  {
   "cell_type": "code",
   "execution_count": 12,
   "metadata": {},
   "outputs": [
    {
     "data": {
      "text/plain": [
       "0.002263366850951727"
      ]
     },
     "execution_count": 12,
     "metadata": {},
     "output_type": "execute_result"
    }
   ],
   "source": [
    "data['operator_id'].isna().mean() "
   ]
  },
  {
   "cell_type": "markdown",
   "metadata": {},
   "source": [
    "Осталось лишь  0,2% пропусков в `operator_id`. В связи с тем, что не можем достоверно заполнить, удаляем их."
   ]
  },
  {
   "cell_type": "code",
   "execution_count": 13,
   "metadata": {},
   "outputs": [],
   "source": [
    "data = data.dropna(subset=['operator_id'], axis = 0)"
   ]
  },
  {
   "cell_type": "code",
   "execution_count": 14,
   "metadata": {
    "scrolled": true
   },
   "outputs": [
    {
     "data": {
      "text/html": [
       "<div>\n",
       "<style scoped>\n",
       "    .dataframe tbody tr th:only-of-type {\n",
       "        vertical-align: middle;\n",
       "    }\n",
       "\n",
       "    .dataframe tbody tr th {\n",
       "        vertical-align: top;\n",
       "    }\n",
       "\n",
       "    .dataframe thead th {\n",
       "        text-align: right;\n",
       "    }\n",
       "</style>\n",
       "<table border=\"1\" class=\"dataframe\">\n",
       "  <thead>\n",
       "    <tr style=\"text-align: right;\">\n",
       "      <th></th>\n",
       "      <th>user_id</th>\n",
       "      <th>date</th>\n",
       "      <th>direction</th>\n",
       "      <th>internal</th>\n",
       "      <th>operator_id</th>\n",
       "      <th>is_missed_call</th>\n",
       "      <th>calls_count</th>\n",
       "      <th>call_duration</th>\n",
       "      <th>total_call_duration</th>\n",
       "    </tr>\n",
       "  </thead>\n",
       "  <tbody>\n",
       "    <tr>\n",
       "      <th>1007</th>\n",
       "      <td>166405</td>\n",
       "      <td>2019-09-18 00:00:00+03:00</td>\n",
       "      <td>in</td>\n",
       "      <td>NaN</td>\n",
       "      <td>0.0</td>\n",
       "      <td>True</td>\n",
       "      <td>1</td>\n",
       "      <td>0</td>\n",
       "      <td>59</td>\n",
       "    </tr>\n",
       "    <tr>\n",
       "      <th>1090</th>\n",
       "      <td>166405</td>\n",
       "      <td>2019-10-01 00:00:00+03:00</td>\n",
       "      <td>in</td>\n",
       "      <td>NaN</td>\n",
       "      <td>0.0</td>\n",
       "      <td>True</td>\n",
       "      <td>1</td>\n",
       "      <td>0</td>\n",
       "      <td>1</td>\n",
       "    </tr>\n",
       "    <tr>\n",
       "      <th>1864</th>\n",
       "      <td>166406</td>\n",
       "      <td>2019-08-20 00:00:00+03:00</td>\n",
       "      <td>in</td>\n",
       "      <td>NaN</td>\n",
       "      <td>0.0</td>\n",
       "      <td>True</td>\n",
       "      <td>1</td>\n",
       "      <td>0</td>\n",
       "      <td>36</td>\n",
       "    </tr>\n",
       "    <tr>\n",
       "      <th>1924</th>\n",
       "      <td>166406</td>\n",
       "      <td>2019-09-02 00:00:00+03:00</td>\n",
       "      <td>in</td>\n",
       "      <td>NaN</td>\n",
       "      <td>879898.0</td>\n",
       "      <td>False</td>\n",
       "      <td>1</td>\n",
       "      <td>2</td>\n",
       "      <td>9</td>\n",
       "    </tr>\n",
       "    <tr>\n",
       "      <th>6210</th>\n",
       "      <td>166541</td>\n",
       "      <td>2019-09-26 00:00:00+03:00</td>\n",
       "      <td>in</td>\n",
       "      <td>NaN</td>\n",
       "      <td>908960.0</td>\n",
       "      <td>False</td>\n",
       "      <td>1</td>\n",
       "      <td>393</td>\n",
       "      <td>423</td>\n",
       "    </tr>\n",
       "    <tr>\n",
       "      <th>6216</th>\n",
       "      <td>166541</td>\n",
       "      <td>2019-09-26 00:00:00+03:00</td>\n",
       "      <td>in</td>\n",
       "      <td>NaN</td>\n",
       "      <td>908958.0</td>\n",
       "      <td>False</td>\n",
       "      <td>2</td>\n",
       "      <td>547</td>\n",
       "      <td>612</td>\n",
       "    </tr>\n",
       "    <tr>\n",
       "      <th>7523</th>\n",
       "      <td>166604</td>\n",
       "      <td>2019-10-31 00:00:00+03:00</td>\n",
       "      <td>in</td>\n",
       "      <td>NaN</td>\n",
       "      <td>0.0</td>\n",
       "      <td>True</td>\n",
       "      <td>1</td>\n",
       "      <td>0</td>\n",
       "      <td>5</td>\n",
       "    </tr>\n",
       "    <tr>\n",
       "      <th>7528</th>\n",
       "      <td>166604</td>\n",
       "      <td>2019-11-01 00:00:00+03:00</td>\n",
       "      <td>in</td>\n",
       "      <td>NaN</td>\n",
       "      <td>893402.0</td>\n",
       "      <td>False</td>\n",
       "      <td>1</td>\n",
       "      <td>94</td>\n",
       "      <td>117</td>\n",
       "    </tr>\n",
       "    <tr>\n",
       "      <th>8650</th>\n",
       "      <td>166658</td>\n",
       "      <td>2019-09-24 00:00:00+03:00</td>\n",
       "      <td>in</td>\n",
       "      <td>NaN</td>\n",
       "      <td>890404.0</td>\n",
       "      <td>False</td>\n",
       "      <td>1</td>\n",
       "      <td>150</td>\n",
       "      <td>157</td>\n",
       "    </tr>\n",
       "    <tr>\n",
       "      <th>9080</th>\n",
       "      <td>166658</td>\n",
       "      <td>2019-10-15 00:00:00+03:00</td>\n",
       "      <td>in</td>\n",
       "      <td>NaN</td>\n",
       "      <td>890404.0</td>\n",
       "      <td>False</td>\n",
       "      <td>1</td>\n",
       "      <td>51</td>\n",
       "      <td>57</td>\n",
       "    </tr>\n",
       "  </tbody>\n",
       "</table>\n",
       "</div>"
      ],
      "text/plain": [
       "      user_id                       date direction internal  operator_id  \\\n",
       "1007   166405  2019-09-18 00:00:00+03:00        in      NaN          0.0   \n",
       "1090   166405  2019-10-01 00:00:00+03:00        in      NaN          0.0   \n",
       "1864   166406  2019-08-20 00:00:00+03:00        in      NaN          0.0   \n",
       "1924   166406  2019-09-02 00:00:00+03:00        in      NaN     879898.0   \n",
       "6210   166541  2019-09-26 00:00:00+03:00        in      NaN     908960.0   \n",
       "6216   166541  2019-09-26 00:00:00+03:00        in      NaN     908958.0   \n",
       "7523   166604  2019-10-31 00:00:00+03:00        in      NaN          0.0   \n",
       "7528   166604  2019-11-01 00:00:00+03:00        in      NaN     893402.0   \n",
       "8650   166658  2019-09-24 00:00:00+03:00        in      NaN     890404.0   \n",
       "9080   166658  2019-10-15 00:00:00+03:00        in      NaN     890404.0   \n",
       "\n",
       "      is_missed_call  calls_count  call_duration  total_call_duration  \n",
       "1007            True            1              0                   59  \n",
       "1090            True            1              0                    1  \n",
       "1864            True            1              0                   36  \n",
       "1924           False            1              2                    9  \n",
       "6210           False            1            393                  423  \n",
       "6216           False            2            547                  612  \n",
       "7523            True            1              0                    5  \n",
       "7528           False            1             94                  117  \n",
       "8650           False            1            150                  157  \n",
       "9080           False            1             51                   57  "
      ]
     },
     "execution_count": 14,
     "metadata": {},
     "output_type": "execute_result"
    }
   ],
   "source": [
    "# отображение строк таблицы с пропусками в столбце internal\n",
    "\n",
    "data[pd.isnull(data['internal'])].head(10)"
   ]
  },
  {
   "cell_type": "code",
   "execution_count": 15,
   "metadata": {},
   "outputs": [
    {
     "data": {
      "text/plain": [
       "False    47513\n",
       "True      6150\n",
       "Name: internal, dtype: int64"
      ]
     },
     "execution_count": 15,
     "metadata": {},
     "output_type": "execute_result"
    }
   ],
   "source": [
    "data['internal'].value_counts()"
   ]
  },
  {
   "cell_type": "code",
   "execution_count": 16,
   "metadata": {},
   "outputs": [
    {
     "data": {
      "text/plain": [
       "0.11460410338594562"
      ]
     },
     "execution_count": 16,
     "metadata": {},
     "output_type": "execute_result"
    }
   ],
   "source": [
    "data['internal'].mean()     "
   ]
  },
  {
   "cell_type": "markdown",
   "metadata": {},
   "source": [
    "Присвоим пропущенным значениям `internal` которых лишь 0,2% значение False, которое занимает 89% от общего количества. "
   ]
  },
  {
   "cell_type": "code",
   "execution_count": 17,
   "metadata": {},
   "outputs": [
    {
     "data": {
      "text/plain": [
       "user_id                0\n",
       "date                   0\n",
       "direction              0\n",
       "internal               0\n",
       "operator_id            0\n",
       "is_missed_call         0\n",
       "calls_count            0\n",
       "call_duration          0\n",
       "total_call_duration    0\n",
       "dtype: int64"
      ]
     },
     "execution_count": 17,
     "metadata": {},
     "output_type": "execute_result"
    }
   ],
   "source": [
    "data['internal'] = data['internal'].fillna(value = False) \n",
    "data.isna().sum() "
   ]
  },
  {
   "cell_type": "code",
   "execution_count": 18,
   "metadata": {},
   "outputs": [
    {
     "name": "stdout",
     "output_type": "stream",
     "text": [
      "<class 'pandas.core.frame.DataFrame'>\n",
      "Int64Index: 53780 entries, 0 to 53901\n",
      "Data columns (total 9 columns):\n",
      " #   Column               Non-Null Count  Dtype                                \n",
      "---  ------               --------------  -----                                \n",
      " 0   user_id              53780 non-null  int64                                \n",
      " 1   date                 53780 non-null  datetime64[ns, pytz.FixedOffset(180)]\n",
      " 2   direction            53780 non-null  object                               \n",
      " 3   internal             53780 non-null  bool                                 \n",
      " 4   operator_id          53780 non-null  float64                              \n",
      " 5   is_missed_call       53780 non-null  bool                                 \n",
      " 6   calls_count          53780 non-null  int64                                \n",
      " 7   call_duration        53780 non-null  int64                                \n",
      " 8   total_call_duration  53780 non-null  int64                                \n",
      "dtypes: bool(2), datetime64[ns, pytz.FixedOffset(180)](1), float64(1), int64(4), object(1)\n",
      "memory usage: 3.4+ MB\n"
     ]
    }
   ],
   "source": [
    "# Приводим данные в date и internal к необходимым типам  \n",
    "\n",
    "data['date'] = pd.to_datetime(data['date'])\n",
    "data['internal'] = np.where(data['internal'] == True,  True, False)\n",
    "data.info()"
   ]
  },
  {
   "cell_type": "code",
   "execution_count": 19,
   "metadata": {},
   "outputs": [
    {
     "name": "stdout",
     "output_type": "stream",
     "text": [
      "<class 'pandas.core.frame.DataFrame'>\n",
      "RangeIndex: 732 entries, 0 to 731\n",
      "Data columns (total 3 columns):\n",
      " #   Column       Non-Null Count  Dtype         \n",
      "---  ------       --------------  -----         \n",
      " 0   user_id      732 non-null    int64         \n",
      " 1   tariff_plan  732 non-null    object        \n",
      " 2   date_start   732 non-null    datetime64[ns]\n",
      "dtypes: datetime64[ns](1), int64(1), object(1)\n",
      "memory usage: 17.3+ KB\n"
     ]
    }
   ],
   "source": [
    "# Приводим данные в date_start  к необходимому типу  \n",
    "\n",
    "clients['date_start'] = pd.to_datetime(clients['date_start'])\n",
    "clients.info()"
   ]
  },
  {
   "cell_type": "code",
   "execution_count": 20,
   "metadata": {},
   "outputs": [
    {
     "data": {
      "text/plain": [
       "4891"
      ]
     },
     "execution_count": 20,
     "metadata": {},
     "output_type": "execute_result"
    }
   ],
   "source": [
    "# Проверяем на дубликаты. \n",
    "\n",
    "data.duplicated().sum()"
   ]
  },
  {
   "cell_type": "code",
   "execution_count": 21,
   "metadata": {},
   "outputs": [],
   "source": [
    "#удаляем дубликаты\n",
    "\n",
    "data = data.drop_duplicates()"
   ]
  },
  {
   "cell_type": "code",
   "execution_count": 22,
   "metadata": {},
   "outputs": [
    {
     "name": "stdout",
     "output_type": "stream",
     "text": [
      "<class 'pandas.core.frame.DataFrame'>\n",
      "Int64Index: 48889 entries, 0 to 53901\n",
      "Data columns (total 9 columns):\n",
      " #   Column               Non-Null Count  Dtype                                \n",
      "---  ------               --------------  -----                                \n",
      " 0   user_id              48889 non-null  int64                                \n",
      " 1   date                 48889 non-null  datetime64[ns, pytz.FixedOffset(180)]\n",
      " 2   direction            48889 non-null  object                               \n",
      " 3   internal             48889 non-null  bool                                 \n",
      " 4   operator_id          48889 non-null  float64                              \n",
      " 5   is_missed_call       48889 non-null  bool                                 \n",
      " 6   calls_count          48889 non-null  int64                                \n",
      " 7   call_duration        48889 non-null  int64                                \n",
      " 8   total_call_duration  48889 non-null  int64                                \n",
      "dtypes: bool(2), datetime64[ns, pytz.FixedOffset(180)](1), float64(1), int64(4), object(1)\n",
      "memory usage: 3.1+ MB\n"
     ]
    }
   ],
   "source": [
    "data.info()"
   ]
  },
  {
   "cell_type": "code",
   "execution_count": 23,
   "metadata": {},
   "outputs": [
    {
     "data": {
      "text/plain": [
       "0"
      ]
     },
     "execution_count": 23,
     "metadata": {},
     "output_type": "execute_result"
    }
   ],
   "source": [
    "clients.duplicated().sum()"
   ]
  },
  {
   "cell_type": "markdown",
   "metadata": {},
   "source": [
    "Заполнили 98,5% пропусков. Привели в порядок типы данных. Избавились от дубликатов."
   ]
  },
  {
   "cell_type": "markdown",
   "metadata": {},
   "source": [
    "####  2.2 Категоризация колл-центров"
   ]
  },
  {
   "cell_type": "markdown",
   "metadata": {},
   "source": [
    "Разделение колл-центров проведем по значению агрегированного параметра Длительность звонка (без учета времени ожидания). \n",
    "При равенстве  длительности звонков, сравним суммарное количество звонков."
   ]
  },
  {
   "cell_type": "code",
   "execution_count": 24,
   "metadata": {},
   "outputs": [],
   "source": [
    "data1 = data.groupby(['user_id', 'direction']).agg({'call_duration': 'sum'}).rename(columns={'call_duration':'count'}).reset_index(drop=False)\n",
    "data1 = data1.assign(idx=data1.groupby('direction').cumcount()).pivot_table(index='user_id', columns='direction', values='count', aggfunc='sum')\n",
    "data2 = data.groupby(['user_id', 'direction']).agg({'calls_count': 'sum'}).rename(columns={'calls_count':'count'}).reset_index(drop=False)\n",
    "data2 = data2.assign(idx=data2.groupby('direction').cumcount()).pivot_table(index='user_id', columns='direction', values='count', aggfunc='sum')\n",
    "clients_cat = clients.merge(data1, on = 'user_id', how = 'left')\n",
    "clients_cat = clients_cat.merge(data2, on = 'user_id', how = 'left')\n",
    "clients_cat = clients_cat.fillna(0)\n",
    "clients_cat = clients_cat.rename(columns = {'in_x': 'in_dur', 'out_x': 'out_dur', 'in_y': 'in_count', 'out_y': 'out_count'}) \n",
    "clients_cat['category'] = 0"
   ]
  },
  {
   "cell_type": "code",
   "execution_count": 25,
   "metadata": {},
   "outputs": [
    {
     "data": {
      "text/html": [
       "<div>\n",
       "<style scoped>\n",
       "    .dataframe tbody tr th:only-of-type {\n",
       "        vertical-align: middle;\n",
       "    }\n",
       "\n",
       "    .dataframe tbody tr th {\n",
       "        vertical-align: top;\n",
       "    }\n",
       "\n",
       "    .dataframe thead th {\n",
       "        text-align: right;\n",
       "    }\n",
       "</style>\n",
       "<table border=\"1\" class=\"dataframe\">\n",
       "  <thead>\n",
       "    <tr style=\"text-align: right;\">\n",
       "      <th></th>\n",
       "      <th>user_id</th>\n",
       "      <th>tariff_plan</th>\n",
       "      <th>date_start</th>\n",
       "      <th>in_dur</th>\n",
       "      <th>out_dur</th>\n",
       "      <th>in_count</th>\n",
       "      <th>out_count</th>\n",
       "      <th>category</th>\n",
       "    </tr>\n",
       "  </thead>\n",
       "  <tbody>\n",
       "    <tr>\n",
       "      <th>0</th>\n",
       "      <td>166713</td>\n",
       "      <td>A</td>\n",
       "      <td>2019-08-15</td>\n",
       "      <td>9420.0</td>\n",
       "      <td>363.0</td>\n",
       "      <td>74.0</td>\n",
       "      <td>10.0</td>\n",
       "      <td>1</td>\n",
       "    </tr>\n",
       "    <tr>\n",
       "      <th>1</th>\n",
       "      <td>166901</td>\n",
       "      <td>A</td>\n",
       "      <td>2019-08-23</td>\n",
       "      <td>37223.0</td>\n",
       "      <td>24244.0</td>\n",
       "      <td>845.0</td>\n",
       "      <td>468.0</td>\n",
       "      <td>1</td>\n",
       "    </tr>\n",
       "    <tr>\n",
       "      <th>2</th>\n",
       "      <td>168527</td>\n",
       "      <td>A</td>\n",
       "      <td>2019-10-29</td>\n",
       "      <td>0.0</td>\n",
       "      <td>0.0</td>\n",
       "      <td>0.0</td>\n",
       "      <td>0.0</td>\n",
       "      <td>0</td>\n",
       "    </tr>\n",
       "    <tr>\n",
       "      <th>3</th>\n",
       "      <td>167097</td>\n",
       "      <td>A</td>\n",
       "      <td>2019-09-01</td>\n",
       "      <td>0.0</td>\n",
       "      <td>0.0</td>\n",
       "      <td>0.0</td>\n",
       "      <td>0.0</td>\n",
       "      <td>0</td>\n",
       "    </tr>\n",
       "    <tr>\n",
       "      <th>4</th>\n",
       "      <td>168193</td>\n",
       "      <td>A</td>\n",
       "      <td>2019-10-16</td>\n",
       "      <td>2015.0</td>\n",
       "      <td>4068.0</td>\n",
       "      <td>84.0</td>\n",
       "      <td>117.0</td>\n",
       "      <td>2</td>\n",
       "    </tr>\n",
       "  </tbody>\n",
       "</table>\n",
       "</div>"
      ],
      "text/plain": [
       "   user_id tariff_plan date_start   in_dur  out_dur  in_count  out_count  \\\n",
       "0   166713           A 2019-08-15   9420.0    363.0      74.0       10.0   \n",
       "1   166901           A 2019-08-23  37223.0  24244.0     845.0      468.0   \n",
       "2   168527           A 2019-10-29      0.0      0.0       0.0        0.0   \n",
       "3   167097           A 2019-09-01      0.0      0.0       0.0        0.0   \n",
       "4   168193           A 2019-10-16   2015.0   4068.0      84.0      117.0   \n",
       "\n",
       "   category  \n",
       "0         1  \n",
       "1         1  \n",
       "2         0  \n",
       "3         0  \n",
       "4         2  "
      ]
     },
     "execution_count": 25,
     "metadata": {},
     "output_type": "execute_result"
    }
   ],
   "source": [
    "for n in  range(len(clients_cat)):\n",
    "    if (clients_cat['in_dur'][n]-clients_cat['out_dur'][n])>0:\n",
    "        clients_cat['category'][n] = 1\n",
    "    elif (clients_cat['in_dur'][n]-clients_cat['out_dur'][n])<0:\n",
    "        clients_cat['category'][n] = 2\n",
    "    elif ((clients_cat['in_dur'][n]-clients_cat['out_dur'][n])==0) and ((clients_cat['in_count'][n]-clients_cat['out_count'][n])>0):\n",
    "        clients_cat['category'][n] = 1\n",
    "    elif ((clients_cat['in_dur'][n]-clients_cat['out_dur'][n])==0) and ((clients_cat['in_count'][n]-clients_cat['out_count'][n])<0):\n",
    "        clients_cat['category'][n] = 2\n",
    "    elif ((clients_cat['in_dur'][n]-clients_cat['out_dur'][n])==0) and ((clients_cat['in_count'][n]-clients_cat['out_count'][n])==0):\n",
    "        clients_cat['category'][n] = 0\n",
    "clients_cat.head()"
   ]
  },
  {
   "cell_type": "code",
   "execution_count": 26,
   "metadata": {},
   "outputs": [
    {
     "data": {
      "text/plain": [
       "0    425\n",
       "1    174\n",
       "2    133\n",
       "Name: category, dtype: int64"
      ]
     },
     "execution_count": 26,
     "metadata": {},
     "output_type": "execute_result"
    }
   ],
   "source": [
    "clients_cat['category'].value_counts()"
   ]
  },
  {
   "cell_type": "code",
   "execution_count": 27,
   "metadata": {},
   "outputs": [],
   "source": [
    "# внесем информацию о категориях в таблицу с данными о вызовах\n",
    "data = data.merge(clients_cat[['user_id','category']], on='user_id')"
   ]
  },
  {
   "cell_type": "code",
   "execution_count": 28,
   "metadata": {},
   "outputs": [
    {
     "data": {
      "image/png": "[encoded data removed]",
      "text/plain": [
       "<Figure size 864x432 with 1 Axes>"
      ]
     },
     "metadata": {
      "needs_background": "light"
     },
     "output_type": "display_data"
    }
   ],
   "source": [
    "clients_cat.groupby(['category']).agg({'user_id': 'nunique'}).plot.bar(figsize=(12, 6))\n",
    "plt.legend().remove()\n",
    "plt.title('Распределение КЦ по категориям');"
   ]
  },
  {
   "cell_type": "markdown",
   "metadata": {},
   "source": [
    "Присвоили колл-центрам категории. Провели категоризацию по значению агрегированного параметра Длительность звонка (без учета времени ожидания). При равном количестве длительности звонков, сравнивали суммарное количество звонков.\n",
    "1. Колл-центрам которые распределяют входящие звонки по своим операторам присвоили категорию 1. Таких КЦ 174. \n",
    "2. Колл-центрам которые совершают исходящие вызовы силами операторов назначили категорию 2.  Таких КЦ 133.\n",
    "3. Клиентам зарегестрированным, но не имеющим статистику звонков назначили категорию 0. Таких КЦ  425."
   ]
  },
  {
   "cell_type": "markdown",
   "metadata": {},
   "source": [
    "### 3. Исследовательский анализ.  "
   ]
  },
  {
   "cell_type": "code",
   "execution_count": 29,
   "metadata": {},
   "outputs": [
    {
     "name": "stdout",
     "output_type": "stream",
     "text": [
      "Минимальная дата статистики по звонкам 2019-08-02\n",
      "Максимальная дата статистики по звонкам 2019-11-28\n",
      "\n",
      "Минимальная дата регистрации КЦ 2019-08-01\n",
      "Максимальная дата регистрации КЦ 2019-10-31\n"
     ]
    }
   ],
   "source": [
    "print('Минимальная дата статистики по звонкам', data['date'].dt.date.min())\n",
    "print('Максимальная дата статистики по звонкам', data['date'].dt.date.max())\n",
    "print('')\n",
    "print('Минимальная дата регистрации КЦ', clients_cat['date_start'].dt.date.min())\n",
    "print('Максимальная дата регистрации КЦ', clients_cat['date_start'].dt.date.max())"
   ]
  },
  {
   "cell_type": "code",
   "execution_count": 30,
   "metadata": {},
   "outputs": [],
   "source": [
    "# Содаем столбец с порядковым номером месяца \n",
    "\n",
    "data['month'] = data['date'].dt.month\n",
    "clients_cat['month'] = clients_cat['date_start'].dt.month"
   ]
  },
  {
   "cell_type": "markdown",
   "metadata": {},
   "source": [
    "#### 3.1. Изучение количества входящих вызовов и число пропущенных из них."
   ]
  },
  {
   "cell_type": "code",
   "execution_count": 31,
   "metadata": {},
   "outputs": [],
   "source": [
    "# выделяем датасет с данными принимающих вызовы КЦ\n",
    "\n",
    "data_sort_in = data.query('category == 1 and direction == \"in\"') "
   ]
  },
  {
   "cell_type": "code",
   "execution_count": 32,
   "metadata": {},
   "outputs": [
    {
     "data": {
      "text/plain": [
       "count    10662.000000\n",
       "mean         8.865410\n",
       "std         29.011026\n",
       "min          1.000000\n",
       "25%          1.000000\n",
       "50%          3.000000\n",
       "75%          7.000000\n",
       "max       1679.000000\n",
       "Name: calls_count, dtype: float64"
      ]
     },
     "execution_count": 32,
     "metadata": {},
     "output_type": "execute_result"
    }
   ],
   "source": [
    "# изучаем показатель - количество входящих вызовов\n",
    "\n",
    "data_sort_in['calls_count'].describe()"
   ]
  },
  {
   "cell_type": "code",
   "execution_count": 33,
   "metadata": {},
   "outputs": [
    {
     "data": {
      "image/png": "[encoded data removed]",
      "text/plain": [
       "<Figure size 1008x504 with 1 Axes>"
      ]
     },
     "metadata": {
      "needs_background": "light"
     },
     "output_type": "display_data"
    }
   ],
   "source": [
    "# рассматриваем распределение количесва звонков\n",
    "plt.figure(figsize=(14,7))\n",
    "data_sort_in.boxplot(column='calls_count')\n",
    "plt.ylim(0, 120);"
   ]
  },
  {
   "cell_type": "code",
   "execution_count": 34,
   "metadata": {},
   "outputs": [
    {
     "data": {
      "text/plain": [
       "count    10616.000000\n",
       "mean         7.848248\n",
       "std         14.269073\n",
       "min          1.000000\n",
       "25%          1.000000\n",
       "50%          3.000000\n",
       "75%          7.000000\n",
       "max        120.000000\n",
       "Name: calls_count, dtype: float64"
      ]
     },
     "execution_count": 34,
     "metadata": {},
     "output_type": "execute_result"
    }
   ],
   "source": [
    "data_sort_in.query('calls_count<=120')['calls_count'].describe()"
   ]
  },
  {
   "cell_type": "code",
   "execution_count": 35,
   "metadata": {},
   "outputs": [
    {
     "name": "stdout",
     "output_type": "stream",
     "text": [
      "Рассмотрев распределение количества вызовов, ограничим выборку 120 звонками в день. В эти границы попадает 99.6 % данных.\n"
     ]
    }
   ],
   "source": [
    "print('Рассмотрев распределение количества вызовов, ограничим выборку 120 звонками в день. В эти границы попадает', round(data_sort_in.query('calls_count<=120')['calls_count'].count()/data_sort_in['calls_count'].count()*100,1), '% данных.')"
   ]
  },
  {
   "cell_type": "code",
   "execution_count": 36,
   "metadata": {},
   "outputs": [],
   "source": [
    "data_sort_in = data_sort_in.query('calls_count<=120')"
   ]
  },
  {
   "cell_type": "markdown",
   "metadata": {},
   "source": [
    "Изучим количество пропущенных входящих вызовов у КЦ принимающих звонки."
   ]
  },
  {
   "cell_type": "code",
   "execution_count": 37,
   "metadata": {},
   "outputs": [
    {
     "data": {
      "image/png": "[encoded data removed]",
      "text/plain": [
       "<Figure size 1080x360 with 1 Axes>"
      ]
     },
     "metadata": {
      "needs_background": "light"
     },
     "output_type": "display_data"
    }
   ],
   "source": [
    "data_sort_in.pivot_table(\n",
    "    index='date',   \n",
    "    values='calls_count',  \n",
    "    columns = 'is_missed_call',\n",
    "    aggfunc= 'sum'    \n",
    ").plot.area(figsize=(15, 5), grid=True)\n",
    "plt.legend(loc='upper left', title = 'Принятые(False)/Пропущенные(True)')\n",
    "plt.title('Динамика количество входящих вызовов в принимающие КЦ')\n",
    "plt.xlabel('Даты') \n",
    "plt.ylabel('Количество вызовов');"
   ]
  },
  {
   "cell_type": "markdown",
   "metadata": {},
   "source": [
    "Число вызовов растет в течение рассматриваемого периода, как и число пропущенных звонков. Пропорции относительно стабильны."
   ]
  },
  {
   "cell_type": "code",
   "execution_count": 38,
   "metadata": {},
   "outputs": [
    {
     "name": "stdout",
     "output_type": "stream",
     "text": [
      "Доля пропущенных входящих вызовов составляет   34.5 %\n"
     ]
    }
   ],
   "source": [
    "print('Доля пропущенных входящих вызовов составляет  ', round(data_sort_in.query('is_missed_call==True')['calls_count'].sum()/data_sort_in['calls_count'].sum()*100,1), '%')"
   ]
  },
  {
   "cell_type": "code",
   "execution_count": 39,
   "metadata": {},
   "outputs": [
    {
     "data": {
      "image/png": "[encoded data removed]",
      "text/plain": [
       "<Figure size 1080x360 with 1 Axes>"
      ]
     },
     "metadata": {
      "needs_background": "light"
     },
     "output_type": "display_data"
    }
   ],
   "source": [
    "plt.figure(figsize=(15,5))\n",
    "data_sort_in['calls_count'].hist(density=True, bins=40)\n",
    "plt.title('Распределение суточного количества входящих вызовов на операторов принимающих КЦ'); "
   ]
  },
  {
   "cell_type": "code",
   "execution_count": 40,
   "metadata": {},
   "outputs": [
    {
     "data": {
      "text/plain": [
       "count    10616.000000\n",
       "mean         7.848248\n",
       "std         14.269073\n",
       "min          1.000000\n",
       "25%          1.000000\n",
       "50%          3.000000\n",
       "75%          7.000000\n",
       "max        120.000000\n",
       "Name: calls_count, dtype: float64"
      ]
     },
     "execution_count": 40,
     "metadata": {},
     "output_type": "execute_result"
    }
   ],
   "source": [
    "data_sort_in['calls_count'].describe()"
   ]
  },
  {
   "cell_type": "markdown",
   "metadata": {},
   "source": [
    "Рассмотрев распределение количества вызовов У КЦ принимающих звонки, ограничили выборку 120 звонками в день.   \n",
    "В эти границы попало 99.6 % данных.    \n",
    "Число вызовов растет в течение рассматриваемого периода, как и число пропущенных звонков. Пропорции относительно стабильны.  \n",
    "Доля пропущенных входящих вызовов составила 34.5%.   \n",
    "Среднее равно 8 вызовам в день, медиана - 3.  "
   ]
  },
  {
   "cell_type": "markdown",
   "metadata": {},
   "source": [
    "#### 3.2. Изучение времени ожидания ответа при входящих внешних вызовах и продолжительности входящих вызовов."
   ]
  },
  {
   "cell_type": "code",
   "execution_count": 41,
   "metadata": {},
   "outputs": [],
   "source": [
    "# создаем столбец с показателем времени ожидания ответа оператора\n",
    "\n",
    "data_sort_in['diff'] = (data_sort_in['total_call_duration'] - data_sort_in['call_duration'])/data_sort_in['calls_count']"
   ]
  },
  {
   "cell_type": "code",
   "execution_count": 42,
   "metadata": {},
   "outputs": [
    {
     "data": {
      "text/plain": [
       "count    10616.000000\n",
       "mean        17.808069\n",
       "std         15.714707\n",
       "min          0.000000\n",
       "25%          7.333333\n",
       "50%         14.000000\n",
       "75%         24.500000\n",
       "max        294.000000\n",
       "Name: diff, dtype: float64"
      ]
     },
     "execution_count": 42,
     "metadata": {},
     "output_type": "execute_result"
    }
   ],
   "source": [
    "# изучаем ожидания ответа оператора\n",
    "\n",
    "data_sort_in['diff'].describe()"
   ]
  },
  {
   "cell_type": "code",
   "execution_count": 43,
   "metadata": {},
   "outputs": [
    {
     "data": {
      "image/png": "[encoded data removed]",
      "text/plain": [
       "<Figure size 1080x360 with 1 Axes>"
      ]
     },
     "metadata": {
      "needs_background": "light"
     },
     "output_type": "display_data"
    }
   ],
   "source": [
    "data_sort_in.pivot_table(\n",
    "    index='date',   \n",
    "    values='diff',   \n",
    "    aggfunc='mean'  \n",
    ").plot(figsize=(15, 5), grid=True)\n",
    "plt.legend().remove()\n",
    "plt.title('Динамика изменения среднего показателя ожидания ответа оператора принимающих КЦ')\n",
    "plt.xlabel('Даты') \n",
    "plt.ylabel('Время ожидания');"
   ]
  },
  {
   "cell_type": "markdown",
   "metadata": {},
   "source": [
    "Среднее ожидание ответа оператора было достаточно волотильно на первом этапе, но затем показатель стабилизировался около 17-18 ед."
   ]
  },
  {
   "cell_type": "code",
   "execution_count": 44,
   "metadata": {},
   "outputs": [
    {
     "data": {
      "image/png": "[encoded data removed]",
      "text/plain": [
       "<Figure size 1008x576 with 1 Axes>"
      ]
     },
     "metadata": {
      "needs_background": "light"
     },
     "output_type": "display_data"
    }
   ],
   "source": [
    "plt.figure(figsize=(14,8))\n",
    "data_sort_in.boxplot(column='diff')\n",
    "plt.ylim(0, 100);"
   ]
  },
  {
   "cell_type": "code",
   "execution_count": 45,
   "metadata": {},
   "outputs": [
    {
     "data": {
      "text/plain": [
       "count    10582.000000\n",
       "mean        17.429653\n",
       "std         14.089922\n",
       "min          0.000000\n",
       "25%          7.330044\n",
       "50%         14.000000\n",
       "75%         24.237500\n",
       "max         99.000000\n",
       "Name: diff, dtype: float64"
      ]
     },
     "execution_count": 45,
     "metadata": {},
     "output_type": "execute_result"
    }
   ],
   "source": [
    "data_sort_in.query('diff<=100')['diff'].describe()"
   ]
  },
  {
   "cell_type": "code",
   "execution_count": 46,
   "metadata": {},
   "outputs": [
    {
     "name": "stdout",
     "output_type": "stream",
     "text": [
      "Рассмотрев распределение времени ожидания, ограничим выборку 100 ед. В эти границы попадает 99.7 % данных.\n"
     ]
    }
   ],
   "source": [
    "print('Рассмотрев распределение времени ожидания, ограничим выборку 100 ед. В эти границы попадает', round(data_sort_in.query('diff<=100')['diff'].count()/data_sort_in['diff'].count()*100,1), '% данных.')"
   ]
  },
  {
   "cell_type": "code",
   "execution_count": 47,
   "metadata": {},
   "outputs": [],
   "source": [
    "data_sort_in = data_sort_in.query('diff<=100')"
   ]
  },
  {
   "cell_type": "code",
   "execution_count": 48,
   "metadata": {},
   "outputs": [],
   "source": [
    "# создаем столбец с показателем продолжительности одного вызова\n",
    "\n",
    "data_sort_in['call_dur_one'] = data_sort_in['call_duration']/data_sort_in['calls_count']"
   ]
  },
  {
   "cell_type": "code",
   "execution_count": 49,
   "metadata": {},
   "outputs": [
    {
     "data": {
      "text/plain": [
       "count    10582.000000\n",
       "mean        68.240212\n",
       "std        104.643199\n",
       "min          0.000000\n",
       "25%          0.000000\n",
       "50%         37.812500\n",
       "75%         98.312500\n",
       "max       2325.000000\n",
       "Name: call_dur_one, dtype: float64"
      ]
     },
     "execution_count": 49,
     "metadata": {},
     "output_type": "execute_result"
    }
   ],
   "source": [
    "# изучаем продолжительность вызова\n",
    "\n",
    "data_sort_in['call_dur_one'].describe()"
   ]
  },
  {
   "cell_type": "code",
   "execution_count": 50,
   "metadata": {},
   "outputs": [
    {
     "data": {
      "image/png": "[encoded data removed]",
      "text/plain": [
       "<Figure size 1080x360 with 1 Axes>"
      ]
     },
     "metadata": {
      "needs_background": "light"
     },
     "output_type": "display_data"
    }
   ],
   "source": [
    "data_sort_in.pivot_table(\n",
    "    index='date',   \n",
    "    values='call_dur_one',   \n",
    "    aggfunc='mean'  \n",
    ").plot(figsize=(15, 5), grid=True)\n",
    "plt.legend().remove()\n",
    "plt.title('Динамика изменения среднего показателя продолжительности звонка принимающих КЦ')\n",
    "plt.xlabel('Даты') \n",
    "plt.ylabel('Время звонка');"
   ]
  },
  {
   "cell_type": "markdown",
   "metadata": {},
   "source": [
    "Средняя продолжительность звонка росла в период август-сентябрь, в период октябрь-декабрь относительно стабильна."
   ]
  },
  {
   "cell_type": "code",
   "execution_count": 51,
   "metadata": {},
   "outputs": [
    {
     "data": {
      "image/png": "[encoded data removed]",
      "text/plain": [
       "<Figure size 1008x576 with 1 Axes>"
      ]
     },
     "metadata": {
      "needs_background": "light"
     },
     "output_type": "display_data"
    }
   ],
   "source": [
    "plt.figure(figsize=(14,8))\n",
    "data_sort_in.boxplot(column='call_dur_one')\n",
    "plt.ylim(0, 600);"
   ]
  },
  {
   "cell_type": "code",
   "execution_count": 52,
   "metadata": {},
   "outputs": [
    {
     "name": "stdout",
     "output_type": "stream",
     "text": [
      "Рассмотрев распределение времени звонка, ограничим выборку 600 ед. В эти границы попадает 99.5 % данных.\n"
     ]
    }
   ],
   "source": [
    "print('Рассмотрев распределение времени звонка, ограничим выборку 600 ед. В эти границы попадает', round(data_sort_in.query('call_dur_one<=600')['call_dur_one'].count()/data_sort_in['call_dur_one'].count()*100,1), '% данных.')"
   ]
  },
  {
   "cell_type": "code",
   "execution_count": 53,
   "metadata": {},
   "outputs": [],
   "source": [
    "data_sort_in = data_sort_in.query('call_dur_one<=600')"
   ]
  },
  {
   "cell_type": "markdown",
   "metadata": {},
   "source": [
    "Изучив динамику изменения среднего ожидания ответа оператора видим, что среднее ожидание ответа оператора было достаточно волотильно на первом этапе, но затем показатель стабилизировался около 17-18 ед.  \n",
    "Рассмотрев распределение времени ожидания, ограничили выборку 100 ед. В эти границы попало 99.7 % данных.  \n",
    "Средний показатель ожидания ответа оператора равен 17 ед., медиана - 14, среднее отклонение - 14.  \n",
    "\n",
    "Рассмотрев распределение времени звонка, ограничили выборку 600 ед. В эти границы попало 99.5 % данных.  \n",
    "Средняя продолжительность звонка росла в период август-сентябрь, в период октябрь-декабрь относительно стабильна.  \n",
    "Средний показатель продолжительности звонка принимающего КЦ равен  68 ед., медиана - 38, среднее отклонение - 105.\n",
    "\n",
    "При постановке задачи было сказано, что продолжительность вызовов указана в минутах. Но, судя по полученным результатам, мы имеем дело с данными в секундах и будем оперировать этими единицами в дальнейшем.  "
   ]
  },
  {
   "cell_type": "markdown",
   "metadata": {},
   "source": [
    "#### 3.3. Изучение количества исходящих вызовов и число недозвонов из них."
   ]
  },
  {
   "cell_type": "code",
   "execution_count": 54,
   "metadata": {},
   "outputs": [],
   "source": [
    "# выделяем датасет с данными обзванивающих КЦ\n",
    "\n",
    "data_sort_out = data.query('category == 2 and direction == \"out\"') "
   ]
  },
  {
   "cell_type": "code",
   "execution_count": 55,
   "metadata": {},
   "outputs": [
    {
     "data": {
      "text/plain": [
       "count    22707.000000\n",
       "mean        24.229489\n",
       "std         78.955550\n",
       "min          1.000000\n",
       "25%          2.000000\n",
       "50%          6.000000\n",
       "75%         21.000000\n",
       "max       4817.000000\n",
       "Name: calls_count, dtype: float64"
      ]
     },
     "execution_count": 55,
     "metadata": {},
     "output_type": "execute_result"
    }
   ],
   "source": [
    "data_sort_out['calls_count'].describe()"
   ]
  },
  {
   "cell_type": "code",
   "execution_count": 56,
   "metadata": {},
   "outputs": [
    {
     "data": {
      "image/png": "[encoded data removed]",
      "text/plain": [
       "<Figure size 1008x504 with 1 Axes>"
      ]
     },
     "metadata": {
      "needs_background": "light"
     },
     "output_type": "display_data"
    }
   ],
   "source": [
    "plt.figure(figsize=(14,7))\n",
    "data_sort_out.boxplot(column='calls_count')\n",
    "plt.ylim(0, 600);"
   ]
  },
  {
   "cell_type": "code",
   "execution_count": 57,
   "metadata": {},
   "outputs": [
    {
     "name": "stdout",
     "output_type": "stream",
     "text": [
      "Рассмотрев распределение суточного  числа звонков сделанных операторами обзванивающих КЦ, ограничим выборку 600 звонками. В эти границы попадает 99.6 % данных.\n"
     ]
    }
   ],
   "source": [
    "print('Рассмотрев распределение суточного  числа звонков сделанных операторами обзванивающих КЦ, ограничим выборку 600 звонками. В эти границы попадает', round(data_sort_out.query('calls_count<=600')['calls_count'].count()/data_sort_out['calls_count'].count()*100,1), '% данных.')"
   ]
  },
  {
   "cell_type": "code",
   "execution_count": 58,
   "metadata": {},
   "outputs": [],
   "source": [
    "data_sort_out = data_sort_out.query('calls_count<=600')"
   ]
  },
  {
   "cell_type": "code",
   "execution_count": 59,
   "metadata": {},
   "outputs": [
    {
     "data": {
      "text/plain": [
       "count    22625.000000\n",
       "mean        20.955801\n",
       "std         47.499955\n",
       "min          1.000000\n",
       "25%          2.000000\n",
       "50%          6.000000\n",
       "75%         20.000000\n",
       "max        597.000000\n",
       "Name: calls_count, dtype: float64"
      ]
     },
     "execution_count": 59,
     "metadata": {},
     "output_type": "execute_result"
    }
   ],
   "source": [
    "data_sort_out['calls_count'].describe()"
   ]
  },
  {
   "cell_type": "code",
   "execution_count": 60,
   "metadata": {},
   "outputs": [
    {
     "data": {
      "image/png": "[encoded data removed]",
      "text/plain": [
       "<Figure size 1080x360 with 1 Axes>"
      ]
     },
     "metadata": {
      "needs_background": "light"
     },
     "output_type": "display_data"
    }
   ],
   "source": [
    "data_sort_out.pivot_table(\n",
    "    index='date',   \n",
    "    values='calls_count',  \n",
    "    columns = 'is_missed_call',\n",
    "    aggfunc= 'sum'    \n",
    ").plot.area(figsize=(15, 5), grid=True)\n",
    "plt.legend(loc='upper left', title = 'Успешные(False)/Неуспешные(True)')\n",
    "plt.title('Динамика количество исходящих вызовов обзванивающими КЦ')\n",
    "plt.xlabel('Даты') \n",
    "plt.ylabel('Количество вызовов');"
   ]
  },
  {
   "cell_type": "code",
   "execution_count": 61,
   "metadata": {},
   "outputs": [
    {
     "name": "stdout",
     "output_type": "stream",
     "text": [
      "Доля успешных исходящих вызовов:  54.7 %\n"
     ]
    }
   ],
   "source": [
    "print('Доля успешных исходящих вызовов: ', round(data_sort_out.query('is_missed_call==False')['calls_count'].sum()/data_sort_out['calls_count'].sum()*100,1), '%')"
   ]
  },
  {
   "cell_type": "code",
   "execution_count": 62,
   "metadata": {},
   "outputs": [
    {
     "data": {
      "image/png": "[encoded data removed]",
      "text/plain": [
       "<Figure size 1080x360 with 1 Axes>"
      ]
     },
     "metadata": {
      "needs_background": "light"
     },
     "output_type": "display_data"
    }
   ],
   "source": [
    "plt.figure(figsize=(15,5))\n",
    "data_sort_out['calls_count'].hist(density=True, bins=60)\n",
    "plt.title('Распределение суточного количества исходящих вызовов операторов обзванивающих КЦ'); "
   ]
  },
  {
   "cell_type": "markdown",
   "metadata": {},
   "source": [
    "Рассмотрев распределение суточного  числа звонков сделанных операторами обзванивающих КЦ, ограничили выборку 600 звонками. В эти границы попадает 99.6 % данных.  \n",
    "Число вызовов растет в течение рассматриваемого периода. Но наиболее  заметный всплеск был в первой декаде октября.    \n",
    "Доля успешных исходящих вызовов:  54.7 %    \n",
    "Среднее суточный показатель оператора  равен 21 вызову в день, медиана - 6.  "
   ]
  },
  {
   "cell_type": "markdown",
   "metadata": {},
   "source": [
    "#### 3.4. Изучение  продолжительности исходящих вызовов."
   ]
  },
  {
   "cell_type": "code",
   "execution_count": 63,
   "metadata": {},
   "outputs": [],
   "source": [
    "# создаем столбец с показателем продолжительности одного вызова. На этот раз с учетом ожидания.\n",
    "\n",
    "data_sort_out['call_dur_one'] = data_sort_out['total_call_duration']/data_sort_out['calls_count']"
   ]
  },
  {
   "cell_type": "code",
   "execution_count": 64,
   "metadata": {},
   "outputs": [
    {
     "data": {
      "text/plain": [
       "count    22625.000000\n",
       "mean        85.885908\n",
       "std        142.692528\n",
       "min          0.000000\n",
       "25%         20.214286\n",
       "50%         40.000000\n",
       "75%        102.714286\n",
       "max       3609.000000\n",
       "Name: call_dur_one, dtype: float64"
      ]
     },
     "execution_count": 64,
     "metadata": {},
     "output_type": "execute_result"
    }
   ],
   "source": [
    "data_sort_out['call_dur_one'].describe()"
   ]
  },
  {
   "cell_type": "code",
   "execution_count": 65,
   "metadata": {},
   "outputs": [
    {
     "data": {
      "image/png": "[encoded data removed]",
      "text/plain": [
       "<Figure size 1080x360 with 1 Axes>"
      ]
     },
     "metadata": {
      "needs_background": "light"
     },
     "output_type": "display_data"
    }
   ],
   "source": [
    "data_sort_out.pivot_table(\n",
    "    index='date',   \n",
    "    values='call_dur_one',   \n",
    "    aggfunc='mean'  \n",
    ").plot(figsize=(15, 5), grid=True)\n",
    "plt.legend().remove()\n",
    "plt.title('Динамика изменения среднего показателя продолжительности звонка обзванивающих КЦ')\n",
    "plt.xlabel('Даты') \n",
    "plt.ylabel('Время звонка');"
   ]
  },
  {
   "cell_type": "markdown",
   "metadata": {},
   "source": [
    "Средняя продолжительность вызовы обзванивающих КЦ росла в период август-сентябрь и была достаточно волотильна, а после стабилизировалась и стремится к показателю 80 секунд."
   ]
  },
  {
   "cell_type": "code",
   "execution_count": 66,
   "metadata": {},
   "outputs": [
    {
     "data": {
      "image/png": "[encoded data removed]",
      "text/plain": [
       "<Figure size 1008x576 with 1 Axes>"
      ]
     },
     "metadata": {
      "needs_background": "light"
     },
     "output_type": "display_data"
    }
   ],
   "source": [
    "plt.figure(figsize=(14,8))\n",
    "data_sort_out.boxplot(column='call_dur_one')\n",
    "plt.ylim(0, 1000);"
   ]
  },
  {
   "cell_type": "code",
   "execution_count": 67,
   "metadata": {},
   "outputs": [
    {
     "name": "stdout",
     "output_type": "stream",
     "text": [
      "Рассмотрев распределение продолжительности звонков сделанных операторами обзванивающих КЦ, ограничим выборку 1000 секундами. В эти границы попадает 99.6 % данных.\n"
     ]
    }
   ],
   "source": [
    "print('Рассмотрев распределение продолжительности звонков сделанных операторами обзванивающих КЦ, ограничим выборку 1000 секундами. В эти границы попадает', round(data_sort_out.query('call_dur_one<=1000')['call_dur_one'].count()/data_sort_out['call_dur_one'].count()*100,1), '% данных.')"
   ]
  },
  {
   "cell_type": "code",
   "execution_count": 68,
   "metadata": {},
   "outputs": [],
   "source": [
    "data_sort_out = data_sort_out.query('call_dur_one<=1000')"
   ]
  },
  {
   "cell_type": "code",
   "execution_count": 69,
   "metadata": {},
   "outputs": [
    {
     "data": {
      "text/plain": [
       "count    22530.000000\n",
       "mean        80.323366\n",
       "std        110.418070\n",
       "min          0.000000\n",
       "25%         20.105974\n",
       "50%         39.500000\n",
       "75%        101.800000\n",
       "max        999.000000\n",
       "Name: call_dur_one, dtype: float64"
      ]
     },
     "execution_count": 69,
     "metadata": {},
     "output_type": "execute_result"
    }
   ],
   "source": [
    "data_sort_out['call_dur_one'].describe()"
   ]
  },
  {
   "cell_type": "markdown",
   "metadata": {},
   "source": [
    "Средняя продолжительность звонка обзванивающих КЦ росла в период август-сентябрь и была достаточно волотильна, а после стабилизировалась и стремится к показателю 80 секунд.  \n",
    "Рассмотрев распределение продолжительности звонков сделанных операторами обзванивающих КЦ, ограничим выборку 1000 секундами. В эти границы попадает 99.6 % данных.  \n",
    "Средняя продолжительность вызова 80 секунд, медиана равна 39,5 секундам."
   ]
  },
  {
   "cell_type": "markdown",
   "metadata": {},
   "source": [
    "#### 3.5. Изучение доли внутренних вызовов."
   ]
  },
  {
   "cell_type": "code",
   "execution_count": 70,
   "metadata": {
    "scrolled": true
   },
   "outputs": [
    {
     "name": "stdout",
     "output_type": "stream",
     "text": [
      "Изучение доли внутренних вызовов в принимающих КЦ\n",
      "\n",
      "Доля внутренних вызовов среди входящих:  1.5 %\n",
      "Доля продолжительности внутренних вызовов:  0.7 %\n",
      "Общее количество внутренних входящих вызовов:  1245 шт.\n",
      "Общая продолжительность внутренних входящих вызовов:  38060 сек.\n",
      "Средняя продолжительность внутренних входящих вызовов:  30.6 сек.\n",
      "\n",
      "Изучение доли внутренних вызовов в обзванивающих КЦ\n",
      "\n",
      "Доля внутренних вызовов среди исходящих:  2.2 %\n",
      "Доля продолжительности внутренних вызовов:  1.7 %\n",
      "Общее количество внутренних исходящих вызовов:  10629 шт.\n",
      "Общая продолжительность внутренних исходящих вызовов:  443427 сек.\n",
      "Средняя продолжительность внутренних исходящих вызовов:  41.7 сек.\n"
     ]
    }
   ],
   "source": [
    "print('Изучение доли внутренних вызовов в принимающих КЦ')  \n",
    "print('')      \n",
    "print('Доля внутренних вызовов среди входящих: ', round(data_sort_in.query('internal == True')['calls_count'].sum()/data_sort_in['calls_count'].sum()*100,1), '%')\n",
    "print('Доля продолжительности внутренних вызовов: ', round(data_sort_in.query('internal == True')['call_duration'].sum()/data_sort_in['call_duration'].sum()*100,1), '%')\n",
    "print('Общее количество внутренних входящих вызовов: ', data_sort_in.query('internal == True')['calls_count'].sum(), 'шт.')\n",
    "print('Общая продолжительность внутренних входящих вызовов: ', data_sort_in.query('internal == True')['call_duration'].sum(), 'сек.')\n",
    "print('Средняя продолжительность внутренних входящих вызовов: ', round(data_sort_in.query('internal == True')['call_duration'].sum()/data_sort_in.query('internal == True')['calls_count'].sum(),1), 'сек.')\n",
    "print('') \n",
    "print('Изучение доли внутренних вызовов в обзванивающих КЦ')  \n",
    "print('') \n",
    "print('Доля внутренних вызовов среди исходящих: ',  round(data_sort_out.query('internal == True')['calls_count'].sum()/data_sort_out['calls_count'].sum()*100,1), '%')\n",
    "print('Доля продолжительности внутренних вызовов: ', round(data_sort_out.query('internal == True')['call_duration'].sum()/data_sort_out['call_duration'].sum()*100,1), '%')\n",
    "print('Общее количество внутренних исходящих вызовов: ', data_sort_out.query('internal == True')['calls_count'].sum(), 'шт.')\n",
    "print('Общая продолжительность внутренних исходящих вызовов: ', data_sort_out.query('internal == True')['call_duration'].sum(), 'сек.')\n",
    "print('Средняя продолжительность внутренних исходящих вызовов: ', round(data_sort_out.query('internal == True')['call_duration'].sum()/data_sort_out.query('internal == True')['calls_count'].sum(),1), 'сек.')"
   ]
  },
  {
   "cell_type": "markdown",
   "metadata": {},
   "source": [
    "Проанализировав полученные данные можно сделать следующие выводы.  \n",
    "Доли внутренних вызовов невелика - 1,5% в прнимающих и 2,2% в обзванивающих. Серьезного влияния на выводы не оказывает.   \n",
    "Доли их средней продолжительности еще меньше 0.7% и 1,7% соответственно."
   ]
  },
  {
   "cell_type": "markdown",
   "metadata": {},
   "source": [
    "#### 3.6.  Определение распределения нагрузки на операторов по дням недели."
   ]
  },
  {
   "cell_type": "code",
   "execution_count": 71,
   "metadata": {},
   "outputs": [],
   "source": [
    "# создаем столбцы с днем недели\n",
    "data_sort_in['day_week'] = pd.DatetimeIndex(data_sort_in['date']).weekday   \n",
    "data_sort_out['day_week'] = pd.DatetimeIndex(data_sort_out['date']).weekday   "
   ]
  },
  {
   "cell_type": "code",
   "execution_count": 72,
   "metadata": {},
   "outputs": [
    {
     "name": "stdout",
     "output_type": "stream",
     "text": [
      "day_week\n",
      "0    14444\n",
      "1    14904\n",
      "2    14581\n",
      "3    15065\n",
      "4    12033\n",
      "5     6986\n",
      "6     5149\n",
      "Name: calls_count, dtype: int64\n"
     ]
    },
    {
     "data": {
      "image/png": "[encoded data removed]",
      "text/plain": [
       "<Figure size 864x432 with 1 Axes>"
      ]
     },
     "metadata": {
      "needs_background": "light"
     },
     "output_type": "display_data"
    }
   ],
   "source": [
    "data_in1 = data_sort_in.groupby('day_week')['calls_count'].sum()\n",
    "print(data_in1)\n",
    "data_in1.plot.bar(figsize=(12, 6))\n",
    "plt.title('Распределение по дням недели общего количества входящих звонков на операторов принимающих КЦ');"
   ]
  },
  {
   "cell_type": "markdown",
   "metadata": {},
   "source": [
    "Число входящих вызовов уменьшается с пятницы по воскресенье."
   ]
  },
  {
   "cell_type": "code",
   "execution_count": 73,
   "metadata": {},
   "outputs": [
    {
     "name": "stdout",
     "output_type": "stream",
     "text": [
      "day_week\n",
      "0    285\n",
      "1    293\n",
      "2    283\n",
      "3    299\n",
      "4    280\n",
      "5    161\n",
      "6    120\n",
      "Name: operator_id, dtype: int64\n"
     ]
    },
    {
     "data": {
      "image/png": "[encoded data removed]",
      "text/plain": [
       "<Figure size 864x432 with 1 Axes>"
      ]
     },
     "metadata": {
      "needs_background": "light"
     },
     "output_type": "display_data"
    }
   ],
   "source": [
    "data_in2 = data_sort_in.groupby('day_week')['operator_id'].nunique()\n",
    "print(data_in2)\n",
    "data_in2.plot.bar(figsize=(12, 6))\n",
    "plt.title('Распределение по дням недели операторов принимающих КЦ');"
   ]
  },
  {
   "cell_type": "markdown",
   "metadata": {},
   "source": [
    "В субботу и воскресенье задействовано меньше операторов. Вероятно часть КЦ работает по 5-дневной рабочей неделе. Рассчитаем еще количество вызовов на одного оператора."
   ]
  },
  {
   "cell_type": "code",
   "execution_count": 74,
   "metadata": {},
   "outputs": [
    {
     "name": "stdout",
     "output_type": "stream",
     "text": [
      "day_week\n",
      "0    50.7\n",
      "1    50.9\n",
      "2    51.5\n",
      "3    50.4\n",
      "4    43.0\n",
      "5    43.4\n",
      "6    42.9\n",
      "dtype: float64\n"
     ]
    },
    {
     "data": {
      "image/png": "[encoded data removed]",
      "text/plain": [
       "<Figure size 864x432 with 1 Axes>"
      ]
     },
     "metadata": {
      "needs_background": "light"
     },
     "output_type": "display_data"
    }
   ],
   "source": [
    "print(round(data_in1/data_in2,1))\n",
    "(data_in1/data_in2).plot.bar(figsize=(12, 6))\n",
    "plt.title('Распределение по дням недели нагрузки на 1 оператора принимающих КЦ');"
   ]
  },
  {
   "cell_type": "markdown",
   "metadata": {},
   "source": [
    "Наблюдаем снижение активности в пятницу, субботу и воскресенье. В данные дни количество вызовов на одного оператора меньше на 15%. Количество операторов в эти дни можно еще сократить."
   ]
  },
  {
   "cell_type": "code",
   "execution_count": 75,
   "metadata": {},
   "outputs": [
    {
     "name": "stdout",
     "output_type": "stream",
     "text": [
      "day_week\n",
      "0    77943\n",
      "1    79400\n",
      "2    84936\n",
      "3    90735\n",
      "4    82181\n",
      "5    33624\n",
      "6    25020\n",
      "Name: calls_count, dtype: int64\n"
     ]
    },
    {
     "data": {
      "image/png": "[encoded data removed]",
      "text/plain": [
       "<Figure size 864x432 with 1 Axes>"
      ]
     },
     "metadata": {
      "needs_background": "light"
     },
     "output_type": "display_data"
    }
   ],
   "source": [
    "data_out1 = data_sort_out.groupby('day_week')['calls_count'].sum()\n",
    "print(data_out1)\n",
    "data_out1.plot.bar(figsize=(12, 6))\n",
    "plt.title('Распределение по дням недели общего количества исходящих звонков на операторов обзванивающих КЦ');"
   ]
  },
  {
   "cell_type": "markdown",
   "metadata": {},
   "source": [
    "Наблюдаем значительное снижение количества вызовов обзванивающих КЦ в субботу и воскресенье."
   ]
  },
  {
   "cell_type": "code",
   "execution_count": 76,
   "metadata": {},
   "outputs": [
    {
     "name": "stdout",
     "output_type": "stream",
     "text": [
      "day_week\n",
      "0    471\n",
      "1    498\n",
      "2    517\n",
      "3    509\n",
      "4    496\n",
      "5    220\n",
      "6    161\n",
      "Name: operator_id, dtype: int64\n"
     ]
    },
    {
     "data": {
      "image/png": "[encoded data removed]",
      "text/plain": [
       "<Figure size 864x432 with 1 Axes>"
      ]
     },
     "metadata": {
      "needs_background": "light"
     },
     "output_type": "display_data"
    }
   ],
   "source": [
    "data_out2 = data_sort_out.groupby('day_week')['operator_id'].nunique()\n",
    "print(data_out2)\n",
    "data_out2.plot.bar(figsize=(12, 6))\n",
    "plt.title('Распределение по дням недели операторов обзванивающих КЦ');"
   ]
  },
  {
   "cell_type": "markdown",
   "metadata": {},
   "source": [
    "Наблюдаем снижение числа операторов в субботу и воскресенье визуально пропорциональное снижению числа вызовов. Проверим расчитав число вызовов на оператора."
   ]
  },
  {
   "cell_type": "code",
   "execution_count": 77,
   "metadata": {},
   "outputs": [
    {
     "name": "stdout",
     "output_type": "stream",
     "text": [
      "day_week\n",
      "0    165.5\n",
      "1    159.4\n",
      "2    164.3\n",
      "3    178.3\n",
      "4    165.7\n",
      "5    152.8\n",
      "6    155.4\n",
      "dtype: float64\n"
     ]
    },
    {
     "data": {
      "image/png": "[encoded data removed]",
      "text/plain": [
       "<Figure size 864x432 with 1 Axes>"
      ]
     },
     "metadata": {
      "needs_background": "light"
     },
     "output_type": "display_data"
    }
   ],
   "source": [
    "print(round(data_out1/data_out2,1))\n",
    "(data_out1/data_out2).plot.bar(figsize=(12, 6))\n",
    "plt.title('Распределение по дням недели нагрузки на 1 оператора обзванивающих КЦ');"
   ]
  },
  {
   "cell_type": "markdown",
   "metadata": {},
   "source": [
    "В отличие от принимающих КЦ, в обзванивающих КЦ мы не наблюдаем зависимости числа вызовов на оператора от дня недели. Снижение связано лишь с уменьшением операторов в выходные. Часть КЦ работает по 5-дневной неделе. "
   ]
  },
  {
   "cell_type": "markdown",
   "metadata": {},
   "source": [
    "#### 3.7. Анализ количества клиентов и их динамики использования услуг провайдера, определение топ-клиентов для заказчика."
   ]
  },
  {
   "cell_type": "code",
   "execution_count": 78,
   "metadata": {},
   "outputs": [
    {
     "data": {
      "image/png": "[encoded data removed]",
      "text/plain": [
       "<Figure size 1008x504 with 1 Axes>"
      ]
     },
     "metadata": {
      "needs_background": "light"
     },
     "output_type": "display_data"
    }
   ],
   "source": [
    "plt.figure(figsize=(14,7))\n",
    "data_sort_in.groupby('month')['user_id'].nunique().plot(alpha=0.5, color='r', label='Принимающие звонки КЦ')  \n",
    "data_sort_out.groupby('month')['user_id'].nunique().plot(alpha=0.5,  color='b', label='Обзванивающие КЦ')\n",
    "clients_cat.query('category==0').groupby('month')['user_id'].nunique().plot(alpha=0.5, color='g', linestyle = '--', label='Регистрация новых КЦ без статистики')\n",
    "clients_cat.query('category==1').groupby('month')['user_id'].nunique().plot(alpha=0.5, color='r', linestyle = '--', label='Регистрация новых КЦ принимающих')\n",
    "clients_cat.query('category==2').groupby('month')['user_id'].nunique().plot(alpha=0.5, color='b', linestyle = '--', label='Регистрация новых КЦ обзванивающих')\n",
    "plt.legend(loc='lower right')\n",
    "plt.title('Динамика изменения количества  колл-центров')\n",
    "plt.xlabel('Месяц') \n",
    "plt.ylabel('Количество колл-центров');"
   ]
  },
  {
   "cell_type": "markdown",
   "metadata": {},
   "source": [
    "Пиковое значение количества действующих КЦ  - конец октября,  и сопадает с окончанием  периода регистрации новых КЦ. большая часть зарегистрированных КЦ не имеет статистики. Число КЦ принимающих на 1/3 больше числа КЦ обзванивающих.  \n",
    "Выделим топ10 КС принимающих звонки и обзванивающих."
   ]
  },
  {
   "cell_type": "code",
   "execution_count": 79,
   "metadata": {},
   "outputs": [
    {
     "data": {
      "image/png": "[encoded data removed]",
      "text/plain": [
       "<Figure size 864x432 with 1 Axes>"
      ]
     },
     "metadata": {
      "needs_background": "light"
     },
     "output_type": "display_data"
    }
   ],
   "source": [
    "top10_in = data_sort_in.groupby('user_id').agg({'calls_count': 'sum'}).sort_values('calls_count', ascending = False).head(10)\n",
    "top10_in.plot.bar(figsize=(12,6), label='Принимающие звонки КЦ')\n",
    "plt.legend().remove()\n",
    "plt.title('ТОП 10 принимающих КЦ по количеству принятых звонков')\n",
    "plt.xlabel('Номера принимающих КЦ') \n",
    "plt.ylabel('Количество вызовов');"
   ]
  },
  {
   "cell_type": "code",
   "execution_count": 80,
   "metadata": {},
   "outputs": [
    {
     "data": {
      "image/png": "[encoded data removed]",
      "text/plain": [
       "<Figure size 864x432 with 1 Axes>"
      ]
     },
     "metadata": {
      "needs_background": "light"
     },
     "output_type": "display_data"
    }
   ],
   "source": [
    "top10_out = data_sort_out.groupby('user_id').agg({'calls_count': 'sum'}).sort_values('calls_count', ascending = False).head(10)\n",
    "top10_out.plot.bar(figsize=(12,6), label='Принимающие звонки КЦ')\n",
    "plt.legend().remove()\n",
    "plt.title('ТОП 10 обзванивающих КЦ по количеству совершенных звонков')\n",
    "plt.xlabel('Номера обзванивающих КЦ') \n",
    "plt.ylabel('Количество вызовов');"
   ]
  },
  {
   "cell_type": "markdown",
   "metadata": {},
   "source": [
    "### 4. Изучение  результатов анализа."
   ]
  },
  {
   "cell_type": "markdown",
   "metadata": {},
   "source": [
    "#### 4.1. Критерии неэффективности операторов"
   ]
  },
  {
   "cell_type": "markdown",
   "metadata": {},
   "source": [
    "##### 4.1.1. Критерии для Принимающих звонки колл-центров \n",
    "  - время ожидания ответа оператора  "
   ]
  },
  {
   "cell_type": "code",
   "execution_count": 81,
   "metadata": {},
   "outputs": [
    {
     "name": "stdout",
     "output_type": "stream",
     "text": [
      "Норма предельного ожидания ответа оператора для принимающих КЦ  : 20.6 секунд\n"
     ]
    }
   ],
   "source": [
    "# Расчитаем предельную норму ожидания ответа оператора для принимающих КЦ \n",
    "norm_diff_in = data_sort_in.query('operator_id != 0 and is_missed_call==True')['diff'].mean()\n",
    "print('Норма предельного ожидания ответа оператора для принимающих КЦ  :', round(norm_diff_in,1), 'секунд') "
   ]
  },
  {
   "cell_type": "markdown",
   "metadata": {},
   "source": [
    "  - доля пропущенных звонков  "
   ]
  },
  {
   "cell_type": "code",
   "execution_count": 82,
   "metadata": {},
   "outputs": [],
   "source": [
    "# Долю предельного количества пропущенных звонков зададим 5%\n",
    "norm_pass_in = 0.05"
   ]
  },
  {
   "cell_type": "markdown",
   "metadata": {},
   "source": [
    "##### 4.1.2. Критерии для обзванивающих КЦ \n",
    "  - количество звонков совершенное оператором за рабочий день   "
   ]
  },
  {
   "cell_type": "code",
   "execution_count": 83,
   "metadata": {},
   "outputs": [
    {
     "name": "stdout",
     "output_type": "stream",
     "text": [
      "Норма суточного количества звонков для операторов обзванивающих КЦ : 109 звонков\n"
     ]
    }
   ],
   "source": [
    "# Задаем константы\n",
    "# Промежуток между звонками -  посмотреть данные по собеседнику, набрать номер и пр.\n",
    "between = 150\n",
    "# Продолжительность рабочего дня в секундах. Возьмем стандартный 8 часовой за вычетом 1 часа на обед\n",
    "day = 7*3600\n",
    "\n",
    "# Расчитаем норму суточного количества звонков для оператора обзванивающих КЦ разделив продолжительность рабочего дня\n",
    "# на сумму средней продолжительности вызова и фиксированного промежутка времени  между звонками.\n",
    "norm_call_out = round(day/(data_sort_out['call_dur_one'].mean()+between))\n",
    "print('Норма суточного количества звонков для операторов обзванивающих КЦ :', norm_call_out, 'звонков') "
   ]
  },
  {
   "cell_type": "markdown",
   "metadata": {},
   "source": [
    " - ~~доля успешных звонков у оператора~~ \n",
    " - минимальная продолжительность среднего звонка "
   ]
  },
  {
   "cell_type": "markdown",
   "metadata": {},
   "source": [
    "Ранее мы выяснили, что доля успешных звонков составляет 54,7%. "
   ]
  },
  {
   "cell_type": "code",
   "execution_count": 84,
   "metadata": {},
   "outputs": [
    {
     "name": "stdout",
     "output_type": "stream",
     "text": [
      "Доля успешных исходящих вызовов:  54.7 %\n"
     ]
    }
   ],
   "source": [
    "print('Доля успешных исходящих вызовов: ', round(\n",
    "    data_sort_out.query('is_missed_call==False')['calls_count'].sum()/data_sort_out['calls_count'].sum()*100,1), '%')"
   ]
  },
  {
   "cell_type": "markdown",
   "metadata": {},
   "source": [
    "Но это лишь доля тех, кто в принципе взял трубку. Да и повлиять на данное действие оператор не может.   \n",
    "Я изменил второй критерий для обзванивающих КЦ, так как основная функция КЦ не просто дозвониться, а донести информацию, а следовательно разговор должен соответствовать какому-то минимальному уровню продолжительности. Зададим его."
   ]
  },
  {
   "cell_type": "code",
   "execution_count": 85,
   "metadata": {},
   "outputs": [
    {
     "name": "stdout",
     "output_type": "stream",
     "text": [
      "Норма минимальной продолжительности \"чистого\" среднего звонка для операторов  обзванивающих КЦ : 14 секунд\n"
     ]
    }
   ],
   "source": [
    "# Определим минимальную продолжительность \"чистого\" среднего звонка, как \n",
    "# медиану продолжительности одного \"чистого\" звонка среди всех обзванивающих КЦ\n",
    "\n",
    "norm_time_out = (data_sort_out['call_duration']/data_sort_out['calls_count']).median() \n",
    "            \n",
    "print('Норма минимальной продолжительности \"чистого\" среднего звонка для операторов  обзванивающих КЦ :', round(norm_time_out), 'секунд') "
   ]
  },
  {
   "cell_type": "markdown",
   "metadata": {},
   "source": [
    "#### 4.2. Cписок неэффективных операторов"
   ]
  },
  {
   "cell_type": "markdown",
   "metadata": {},
   "source": [
    "##### 4.2.1. Список неэффективных операторов  для принимающих КЦ"
   ]
  },
  {
   "cell_type": "code",
   "execution_count": 86,
   "metadata": {},
   "outputs": [
    {
     "name": "stdout",
     "output_type": "stream",
     "text": [
      "<class 'pandas.core.frame.DataFrame'>\n",
      "RangeIndex: 388 entries, 0 to 387\n",
      "Data columns (total 8 columns):\n",
      " #   Column               Non-Null Count  Dtype  \n",
      "---  ------               --------------  -----  \n",
      " 0   operator_id          388 non-null    float64\n",
      " 1   user_id              388 non-null    int64  \n",
      " 2   date                 388 non-null    int64  \n",
      " 3   calls_count          388 non-null    int64  \n",
      " 4   call_duration        388 non-null    int64  \n",
      " 5   total_call_duration  388 non-null    int64  \n",
      " 6   pas                  388 non-null    float64\n",
      " 7   diff                 388 non-null    float64\n",
      "dtypes: float64(3), int64(5)\n",
      "memory usage: 24.4 KB\n"
     ]
    }
   ],
   "source": [
    "data_sort_in['pas'] = data_sort_in.query('is_missed_call==True')['calls_count']\n",
    "operator_in = data_sort_in.query('operator_id!=0').groupby(['operator_id', 'user_id']).agg(\n",
    "    {'date':'nunique', 'calls_count':'sum', 'call_duration':'sum', 'total_call_duration':'sum', 'pas':'sum'}).reset_index() \n",
    "operator_in['diff'] = (operator_in['total_call_duration']-operator_in['call_duration'])/operator_in['calls_count']\n",
    "operator_in['pas'] = operator_in['pas']/operator_in['calls_count']\n",
    "operator_in.info()"
   ]
  },
  {
   "cell_type": "code",
   "execution_count": 87,
   "metadata": {},
   "outputs": [
    {
     "data": {
      "text/html": [
       "<div>\n",
       "<style scoped>\n",
       "    .dataframe tbody tr th:only-of-type {\n",
       "        vertical-align: middle;\n",
       "    }\n",
       "\n",
       "    .dataframe tbody tr th {\n",
       "        vertical-align: top;\n",
       "    }\n",
       "\n",
       "    .dataframe thead th {\n",
       "        text-align: right;\n",
       "    }\n",
       "</style>\n",
       "<table border=\"1\" class=\"dataframe\">\n",
       "  <thead>\n",
       "    <tr style=\"text-align: right;\">\n",
       "      <th></th>\n",
       "      <th>operator_id</th>\n",
       "      <th>user_id</th>\n",
       "      <th>date</th>\n",
       "      <th>calls_count</th>\n",
       "      <th>call_duration</th>\n",
       "      <th>total_call_duration</th>\n",
       "      <th>pas</th>\n",
       "      <th>diff</th>\n",
       "    </tr>\n",
       "  </thead>\n",
       "  <tbody>\n",
       "    <tr>\n",
       "      <th>0</th>\n",
       "      <td>882476.0</td>\n",
       "      <td>166391</td>\n",
       "      <td>3</td>\n",
       "      <td>3</td>\n",
       "      <td>192</td>\n",
       "      <td>287</td>\n",
       "      <td>0.000000</td>\n",
       "      <td>31.666667</td>\n",
       "    </tr>\n",
       "    <tr>\n",
       "      <th>1</th>\n",
       "      <td>882478.0</td>\n",
       "      <td>166391</td>\n",
       "      <td>1</td>\n",
       "      <td>3</td>\n",
       "      <td>68</td>\n",
       "      <td>144</td>\n",
       "      <td>0.000000</td>\n",
       "      <td>25.333333</td>\n",
       "    </tr>\n",
       "    <tr>\n",
       "      <th>5</th>\n",
       "      <td>886892.0</td>\n",
       "      <td>166392</td>\n",
       "      <td>1</td>\n",
       "      <td>2</td>\n",
       "      <td>72</td>\n",
       "      <td>130</td>\n",
       "      <td>0.000000</td>\n",
       "      <td>29.000000</td>\n",
       "    </tr>\n",
       "    <tr>\n",
       "      <th>7</th>\n",
       "      <td>888406.0</td>\n",
       "      <td>166669</td>\n",
       "      <td>7</td>\n",
       "      <td>9</td>\n",
       "      <td>499</td>\n",
       "      <td>754</td>\n",
       "      <td>0.111111</td>\n",
       "      <td>28.333333</td>\n",
       "    </tr>\n",
       "    <tr>\n",
       "      <th>9</th>\n",
       "      <td>888868.0</td>\n",
       "      <td>166678</td>\n",
       "      <td>10</td>\n",
       "      <td>18</td>\n",
       "      <td>2207</td>\n",
       "      <td>2579</td>\n",
       "      <td>0.055556</td>\n",
       "      <td>20.666667</td>\n",
       "    </tr>\n",
       "    <tr>\n",
       "      <th>...</th>\n",
       "      <td>...</td>\n",
       "      <td>...</td>\n",
       "      <td>...</td>\n",
       "      <td>...</td>\n",
       "      <td>...</td>\n",
       "      <td>...</td>\n",
       "      <td>...</td>\n",
       "      <td>...</td>\n",
       "    </tr>\n",
       "    <tr>\n",
       "      <th>366</th>\n",
       "      <td>959312.0</td>\n",
       "      <td>166487</td>\n",
       "      <td>12</td>\n",
       "      <td>56</td>\n",
       "      <td>6438</td>\n",
       "      <td>6856</td>\n",
       "      <td>0.125000</td>\n",
       "      <td>7.464286</td>\n",
       "    </tr>\n",
       "    <tr>\n",
       "      <th>374</th>\n",
       "      <td>964518.0</td>\n",
       "      <td>168090</td>\n",
       "      <td>1</td>\n",
       "      <td>2</td>\n",
       "      <td>13</td>\n",
       "      <td>55</td>\n",
       "      <td>0.000000</td>\n",
       "      <td>21.000000</td>\n",
       "    </tr>\n",
       "    <tr>\n",
       "      <th>375</th>\n",
       "      <td>964666.0</td>\n",
       "      <td>168252</td>\n",
       "      <td>6</td>\n",
       "      <td>43</td>\n",
       "      <td>1897</td>\n",
       "      <td>2475</td>\n",
       "      <td>0.069767</td>\n",
       "      <td>13.441860</td>\n",
       "    </tr>\n",
       "    <tr>\n",
       "      <th>382</th>\n",
       "      <td>969288.0</td>\n",
       "      <td>168155</td>\n",
       "      <td>2</td>\n",
       "      <td>3</td>\n",
       "      <td>439</td>\n",
       "      <td>527</td>\n",
       "      <td>0.000000</td>\n",
       "      <td>29.333333</td>\n",
       "    </tr>\n",
       "    <tr>\n",
       "      <th>387</th>\n",
       "      <td>973286.0</td>\n",
       "      <td>168579</td>\n",
       "      <td>1</td>\n",
       "      <td>2</td>\n",
       "      <td>17</td>\n",
       "      <td>105</td>\n",
       "      <td>0.000000</td>\n",
       "      <td>44.000000</td>\n",
       "    </tr>\n",
       "  </tbody>\n",
       "</table>\n",
       "<p>119 rows × 8 columns</p>\n",
       "</div>"
      ],
      "text/plain": [
       "     operator_id  user_id  date  calls_count  call_duration  \\\n",
       "0       882476.0   166391     3            3            192   \n",
       "1       882478.0   166391     1            3             68   \n",
       "5       886892.0   166392     1            2             72   \n",
       "7       888406.0   166669     7            9            499   \n",
       "9       888868.0   166678    10           18           2207   \n",
       "..           ...      ...   ...          ...            ...   \n",
       "366     959312.0   166487    12           56           6438   \n",
       "374     964518.0   168090     1            2             13   \n",
       "375     964666.0   168252     6           43           1897   \n",
       "382     969288.0   168155     2            3            439   \n",
       "387     973286.0   168579     1            2             17   \n",
       "\n",
       "     total_call_duration       pas       diff  \n",
       "0                    287  0.000000  31.666667  \n",
       "1                    144  0.000000  25.333333  \n",
       "5                    130  0.000000  29.000000  \n",
       "7                    754  0.111111  28.333333  \n",
       "9                   2579  0.055556  20.666667  \n",
       "..                   ...       ...        ...  \n",
       "366                 6856  0.125000   7.464286  \n",
       "374                   55  0.000000  21.000000  \n",
       "375                 2475  0.069767  13.441860  \n",
       "382                  527  0.000000  29.333333  \n",
       "387                  105  0.000000  44.000000  \n",
       "\n",
       "[119 rows x 8 columns]"
      ]
     },
     "execution_count": 87,
     "metadata": {},
     "output_type": "execute_result"
    }
   ],
   "source": [
    "operator_in_0 = operator_in.query('diff>=@norm_diff_in or pas>=@norm_pass_in') \n",
    "operator_in_0"
   ]
  },
  {
   "cell_type": "markdown",
   "metadata": {},
   "source": [
    "119 операторов из 388 являются недостаточно эффективными в принимающих КЦ. "
   ]
  },
  {
   "cell_type": "markdown",
   "metadata": {},
   "source": [
    "##### 4.2.2. Список неэффективных операторов  для  обзванивающих КЦ"
   ]
  },
  {
   "cell_type": "code",
   "execution_count": 88,
   "metadata": {},
   "outputs": [
    {
     "name": "stdout",
     "output_type": "stream",
     "text": [
      "<class 'pandas.core.frame.DataFrame'>\n",
      "RangeIndex: 624 entries, 0 to 623\n",
      "Data columns (total 7 columns):\n",
      " #   Column         Non-Null Count  Dtype  \n",
      "---  ------         --------------  -----  \n",
      " 0   operator_id    624 non-null    float64\n",
      " 1   user_id        624 non-null    int64  \n",
      " 2   date           624 non-null    int64  \n",
      " 3   calls_count    624 non-null    int64  \n",
      " 4   call_duration  624 non-null    int64  \n",
      " 5   call_out       624 non-null    float64\n",
      " 6   time_out       624 non-null    float64\n",
      "dtypes: float64(3), int64(4)\n",
      "memory usage: 34.2 KB\n"
     ]
    }
   ],
   "source": [
    "operator_out = data_sort_out.query('operator_id!=0').groupby(['operator_id', 'user_id']).agg(\n",
    "    {'date':'nunique', 'calls_count':'sum', 'call_duration':'sum'}).reset_index()\n",
    "operator_out['call_out'] = operator_out['calls_count']/operator_out['date']\n",
    "operator_out['time_out'] = operator_out['call_duration']/operator_out['calls_count']\n",
    "operator_out.info()"
   ]
  },
  {
   "cell_type": "code",
   "execution_count": 89,
   "metadata": {},
   "outputs": [
    {
     "data": {
      "text/html": [
       "<div>\n",
       "<style scoped>\n",
       "    .dataframe tbody tr th:only-of-type {\n",
       "        vertical-align: middle;\n",
       "    }\n",
       "\n",
       "    .dataframe tbody tr th {\n",
       "        vertical-align: top;\n",
       "    }\n",
       "\n",
       "    .dataframe thead th {\n",
       "        text-align: right;\n",
       "    }\n",
       "</style>\n",
       "<table border=\"1\" class=\"dataframe\">\n",
       "  <thead>\n",
       "    <tr style=\"text-align: right;\">\n",
       "      <th></th>\n",
       "      <th>operator_id</th>\n",
       "      <th>user_id</th>\n",
       "      <th>date</th>\n",
       "      <th>calls_count</th>\n",
       "      <th>call_duration</th>\n",
       "      <th>call_out</th>\n",
       "      <th>time_out</th>\n",
       "    </tr>\n",
       "  </thead>\n",
       "  <tbody>\n",
       "    <tr>\n",
       "      <th>0</th>\n",
       "      <td>879896.0</td>\n",
       "      <td>166406</td>\n",
       "      <td>49</td>\n",
       "      <td>872</td>\n",
       "      <td>58246</td>\n",
       "      <td>17.795918</td>\n",
       "      <td>66.795872</td>\n",
       "    </tr>\n",
       "    <tr>\n",
       "      <th>1</th>\n",
       "      <td>879898.0</td>\n",
       "      <td>166406</td>\n",
       "      <td>82</td>\n",
       "      <td>7209</td>\n",
       "      <td>251038</td>\n",
       "      <td>87.914634</td>\n",
       "      <td>34.822860</td>\n",
       "    </tr>\n",
       "    <tr>\n",
       "      <th>2</th>\n",
       "      <td>880020.0</td>\n",
       "      <td>166377</td>\n",
       "      <td>7</td>\n",
       "      <td>38</td>\n",
       "      <td>1946</td>\n",
       "      <td>5.428571</td>\n",
       "      <td>51.210526</td>\n",
       "    </tr>\n",
       "    <tr>\n",
       "      <th>3</th>\n",
       "      <td>880022.0</td>\n",
       "      <td>166377</td>\n",
       "      <td>36</td>\n",
       "      <td>189</td>\n",
       "      <td>14635</td>\n",
       "      <td>5.250000</td>\n",
       "      <td>77.433862</td>\n",
       "    </tr>\n",
       "    <tr>\n",
       "      <th>4</th>\n",
       "      <td>880026.0</td>\n",
       "      <td>166377</td>\n",
       "      <td>77</td>\n",
       "      <td>2208</td>\n",
       "      <td>151739</td>\n",
       "      <td>28.675325</td>\n",
       "      <td>68.722373</td>\n",
       "    </tr>\n",
       "    <tr>\n",
       "      <th>...</th>\n",
       "      <td>...</td>\n",
       "      <td>...</td>\n",
       "      <td>...</td>\n",
       "      <td>...</td>\n",
       "      <td>...</td>\n",
       "      <td>...</td>\n",
       "      <td>...</td>\n",
       "    </tr>\n",
       "    <tr>\n",
       "      <th>619</th>\n",
       "      <td>972408.0</td>\n",
       "      <td>166680</td>\n",
       "      <td>1</td>\n",
       "      <td>6</td>\n",
       "      <td>200</td>\n",
       "      <td>6.000000</td>\n",
       "      <td>33.333333</td>\n",
       "    </tr>\n",
       "    <tr>\n",
       "      <th>620</th>\n",
       "      <td>972410.0</td>\n",
       "      <td>166680</td>\n",
       "      <td>2</td>\n",
       "      <td>77</td>\n",
       "      <td>3777</td>\n",
       "      <td>38.500000</td>\n",
       "      <td>49.051948</td>\n",
       "    </tr>\n",
       "    <tr>\n",
       "      <th>621</th>\n",
       "      <td>972412.0</td>\n",
       "      <td>166680</td>\n",
       "      <td>2</td>\n",
       "      <td>60</td>\n",
       "      <td>3378</td>\n",
       "      <td>30.000000</td>\n",
       "      <td>56.300000</td>\n",
       "    </tr>\n",
       "    <tr>\n",
       "      <th>622</th>\n",
       "      <td>972460.0</td>\n",
       "      <td>166940</td>\n",
       "      <td>2</td>\n",
       "      <td>50</td>\n",
       "      <td>1204</td>\n",
       "      <td>25.000000</td>\n",
       "      <td>24.080000</td>\n",
       "    </tr>\n",
       "    <tr>\n",
       "      <th>623</th>\n",
       "      <td>973120.0</td>\n",
       "      <td>167923</td>\n",
       "      <td>1</td>\n",
       "      <td>3</td>\n",
       "      <td>5</td>\n",
       "      <td>3.000000</td>\n",
       "      <td>1.666667</td>\n",
       "    </tr>\n",
       "  </tbody>\n",
       "</table>\n",
       "<p>565 rows × 7 columns</p>\n",
       "</div>"
      ],
      "text/plain": [
       "     operator_id  user_id  date  calls_count  call_duration   call_out  \\\n",
       "0       879896.0   166406    49          872          58246  17.795918   \n",
       "1       879898.0   166406    82         7209         251038  87.914634   \n",
       "2       880020.0   166377     7           38           1946   5.428571   \n",
       "3       880022.0   166377    36          189          14635   5.250000   \n",
       "4       880026.0   166377    77         2208         151739  28.675325   \n",
       "..           ...      ...   ...          ...            ...        ...   \n",
       "619     972408.0   166680     1            6            200   6.000000   \n",
       "620     972410.0   166680     2           77           3777  38.500000   \n",
       "621     972412.0   166680     2           60           3378  30.000000   \n",
       "622     972460.0   166940     2           50           1204  25.000000   \n",
       "623     973120.0   167923     1            3              5   3.000000   \n",
       "\n",
       "      time_out  \n",
       "0    66.795872  \n",
       "1    34.822860  \n",
       "2    51.210526  \n",
       "3    77.433862  \n",
       "4    68.722373  \n",
       "..         ...  \n",
       "619  33.333333  \n",
       "620  49.051948  \n",
       "621  56.300000  \n",
       "622  24.080000  \n",
       "623   1.666667  \n",
       "\n",
       "[565 rows x 7 columns]"
      ]
     },
     "execution_count": 89,
     "metadata": {},
     "output_type": "execute_result"
    }
   ],
   "source": [
    "operator_out_0 = operator_out.query('call_out<=@norm_call_out or time_out<=@norm_time_out') \n",
    "operator_out_0"
   ]
  },
  {
   "cell_type": "markdown",
   "metadata": {},
   "source": [
    "565 операторов из 624 являются недостаточно эффективными в обзванивающих КЦ. "
   ]
  },
  {
   "cell_type": "markdown",
   "metadata": {},
   "source": [
    "#### 4.3. Список клиентов, где  есть проблемы с эффективностью операторов"
   ]
  },
  {
   "cell_type": "markdown",
   "metadata": {},
   "source": [
    "##### 4.3.1. Список  принимающих КЦ c неэффективными операторами"
   ]
  },
  {
   "cell_type": "code",
   "execution_count": 90,
   "metadata": {},
   "outputs": [
    {
     "data": {
      "text/html": [
       "<div>\n",
       "<style scoped>\n",
       "    .dataframe tbody tr th:only-of-type {\n",
       "        vertical-align: middle;\n",
       "    }\n",
       "\n",
       "    .dataframe tbody tr th {\n",
       "        vertical-align: top;\n",
       "    }\n",
       "\n",
       "    .dataframe thead th {\n",
       "        text-align: right;\n",
       "    }\n",
       "</style>\n",
       "<table border=\"1\" class=\"dataframe\">\n",
       "  <thead>\n",
       "    <tr style=\"text-align: right;\">\n",
       "      <th></th>\n",
       "      <th>operator_ttl</th>\n",
       "      <th>operator_ineff</th>\n",
       "    </tr>\n",
       "    <tr>\n",
       "      <th>user_id</th>\n",
       "      <th></th>\n",
       "      <th></th>\n",
       "    </tr>\n",
       "  </thead>\n",
       "  <tbody>\n",
       "    <tr>\n",
       "      <th>167521</th>\n",
       "      <td>13</td>\n",
       "      <td>6</td>\n",
       "    </tr>\n",
       "    <tr>\n",
       "      <th>167176</th>\n",
       "      <td>13</td>\n",
       "      <td>6</td>\n",
       "    </tr>\n",
       "    <tr>\n",
       "      <th>167977</th>\n",
       "      <td>6</td>\n",
       "      <td>5</td>\n",
       "    </tr>\n",
       "    <tr>\n",
       "      <th>166800</th>\n",
       "      <td>6</td>\n",
       "      <td>5</td>\n",
       "    </tr>\n",
       "    <tr>\n",
       "      <th>166732</th>\n",
       "      <td>5</td>\n",
       "      <td>4</td>\n",
       "    </tr>\n",
       "    <tr>\n",
       "      <th>166837</th>\n",
       "      <td>9</td>\n",
       "      <td>4</td>\n",
       "    </tr>\n",
       "    <tr>\n",
       "      <th>167976</th>\n",
       "      <td>5</td>\n",
       "      <td>4</td>\n",
       "    </tr>\n",
       "    <tr>\n",
       "      <th>166975</th>\n",
       "      <td>6</td>\n",
       "      <td>4</td>\n",
       "    </tr>\n",
       "    <tr>\n",
       "      <th>167059</th>\n",
       "      <td>8</td>\n",
       "      <td>4</td>\n",
       "    </tr>\n",
       "    <tr>\n",
       "      <th>166541</th>\n",
       "      <td>5</td>\n",
       "      <td>4</td>\n",
       "    </tr>\n",
       "  </tbody>\n",
       "</table>\n",
       "</div>"
      ],
      "text/plain": [
       "         operator_ttl  operator_ineff\n",
       "user_id                              \n",
       "167521             13               6\n",
       "167176             13               6\n",
       "167977              6               5\n",
       "166800              6               5\n",
       "166732              5               4\n",
       "166837              9               4\n",
       "167976              5               4\n",
       "166975              6               4\n",
       "167059              8               4\n",
       "166541              5               4"
      ]
     },
     "execution_count": 90,
     "metadata": {},
     "output_type": "execute_result"
    },
    {
     "data": {
      "image/png": "[encoded data removed]",
      "text/plain": [
       "<Figure size 1080x432 with 1 Axes>"
      ]
     },
     "metadata": {
      "needs_background": "light"
     },
     "output_type": "display_data"
    }
   ],
   "source": [
    "kc_in = operator_in_0.groupby('user_id').agg({'operator_id':'nunique'}).rename(columns={'operator_id':'operator_ineff'})\n",
    "kc_in['operator_ttl'] = data_sort_in.groupby('user_id').agg({'operator_id':'nunique'})\n",
    "kc_in = kc_in[['operator_ttl','operator_ineff']]\n",
    "top10_kc_in = kc_in.sort_values('operator_ineff', ascending = False).head(10)\n",
    "top10_kc_in.plot.bar(figsize=(15,6), label='Принимающие КЦ')\n",
    "plt.legend() \n",
    "plt.title('Количество неэффективных операторов с разбивкой по принимающим КЦ. ТОП-10 по количеству неэффективных сотрудников.')\n",
    "plt.xlabel('Принимающие КЦ') \n",
    "plt.ylabel('Количество  операторов');\n",
    "top10_kc_in"
   ]
  },
  {
   "cell_type": "markdown",
   "metadata": {},
   "source": [
    "##### 4.3.2. Список  обзванивающих КЦ c неэффективными операторами"
   ]
  },
  {
   "cell_type": "code",
   "execution_count": 91,
   "metadata": {},
   "outputs": [
    {
     "data": {
      "text/html": [
       "<div>\n",
       "<style scoped>\n",
       "    .dataframe tbody tr th:only-of-type {\n",
       "        vertical-align: middle;\n",
       "    }\n",
       "\n",
       "    .dataframe tbody tr th {\n",
       "        vertical-align: top;\n",
       "    }\n",
       "\n",
       "    .dataframe thead th {\n",
       "        text-align: right;\n",
       "    }\n",
       "</style>\n",
       "<table border=\"1\" class=\"dataframe\">\n",
       "  <thead>\n",
       "    <tr style=\"text-align: right;\">\n",
       "      <th></th>\n",
       "      <th>operator_ttl</th>\n",
       "      <th>operator_ineff</th>\n",
       "    </tr>\n",
       "    <tr>\n",
       "      <th>user_id</th>\n",
       "      <th></th>\n",
       "      <th></th>\n",
       "    </tr>\n",
       "  </thead>\n",
       "  <tbody>\n",
       "    <tr>\n",
       "      <th>167497</th>\n",
       "      <td>29</td>\n",
       "      <td>28</td>\n",
       "    </tr>\n",
       "    <tr>\n",
       "      <th>168062</th>\n",
       "      <td>28</td>\n",
       "      <td>23</td>\n",
       "    </tr>\n",
       "    <tr>\n",
       "      <th>166680</th>\n",
       "      <td>22</td>\n",
       "      <td>21</td>\n",
       "    </tr>\n",
       "    <tr>\n",
       "      <th>167626</th>\n",
       "      <td>49</td>\n",
       "      <td>19</td>\n",
       "    </tr>\n",
       "    <tr>\n",
       "      <th>166520</th>\n",
       "      <td>18</td>\n",
       "      <td>17</td>\n",
       "    </tr>\n",
       "    <tr>\n",
       "      <th>166916</th>\n",
       "      <td>17</td>\n",
       "      <td>16</td>\n",
       "    </tr>\n",
       "    <tr>\n",
       "      <th>168091</th>\n",
       "      <td>16</td>\n",
       "      <td>16</td>\n",
       "    </tr>\n",
       "    <tr>\n",
       "      <th>166658</th>\n",
       "      <td>17</td>\n",
       "      <td>16</td>\n",
       "    </tr>\n",
       "    <tr>\n",
       "      <th>167580</th>\n",
       "      <td>14</td>\n",
       "      <td>14</td>\n",
       "    </tr>\n",
       "    <tr>\n",
       "      <th>168361</th>\n",
       "      <td>28</td>\n",
       "      <td>14</td>\n",
       "    </tr>\n",
       "  </tbody>\n",
       "</table>\n",
       "</div>"
      ],
      "text/plain": [
       "         operator_ttl  operator_ineff\n",
       "user_id                              \n",
       "167497             29              28\n",
       "168062             28              23\n",
       "166680             22              21\n",
       "167626             49              19\n",
       "166520             18              17\n",
       "166916             17              16\n",
       "168091             16              16\n",
       "166658             17              16\n",
       "167580             14              14\n",
       "168361             28              14"
      ]
     },
     "execution_count": 91,
     "metadata": {},
     "output_type": "execute_result"
    },
    {
     "data": {
      "image/png": "[encoded data removed]",
      "text/plain": [
       "<Figure size 1080x432 with 1 Axes>"
      ]
     },
     "metadata": {
      "needs_background": "light"
     },
     "output_type": "display_data"
    }
   ],
   "source": [
    "kc_out = operator_out_0.groupby('user_id').agg({'operator_id':'nunique'}).rename(columns={'operator_id':'operator_ineff'})\n",
    "kc_out['operator_ttl'] = data_sort_out.groupby('user_id').agg({'operator_id':'nunique'})\n",
    "kc_out = kc_out[['operator_ttl','operator_ineff']]\n",
    "top10_kc_out = kc_out.sort_values('operator_ineff', ascending = False).head(10)\n",
    "top10_kc_out.plot.bar(figsize=(15,6), label='Обзванивающие КЦ')\n",
    "plt.legend() \n",
    "plt.title('Количество неэффективных операторов с разбивкой по обзванивающим КЦ. ТОП-10 по количеству неэффективных сотрудников.')\n",
    "plt.xlabel('Обзванивающие КЦ') \n",
    "plt.ylabel('Количество  операторов');\n",
    "top10_kc_out"
   ]
  },
  {
   "cell_type": "markdown",
   "metadata": {},
   "source": [
    "#### 4.4. Причины низкой эффективности."
   ]
  },
  {
   "cell_type": "markdown",
   "metadata": {},
   "source": [
    "Причины низкой эффективности у операторов принимающих КЦ. "
   ]
  },
  {
   "cell_type": "code",
   "execution_count": 92,
   "metadata": {},
   "outputs": [
    {
     "name": "stdout",
     "output_type": "stream",
     "text": [
      "Доля из отсеянных операторов с проблемой длительного ожидания ответа -  82.4 %\n"
     ]
    }
   ],
   "source": [
    "print('Доля из отсеянных операторов с проблемой длительного ожидания ответа - ', round(operator_in.query('diff>=@norm_diff_in')['operator_id'].count()/operator_in.query('diff>=@norm_diff_in or pas>=@norm_pass_in')['operator_id'].count()*100, 1), '%')"
   ]
  },
  {
   "cell_type": "code",
   "execution_count": 93,
   "metadata": {},
   "outputs": [
    {
     "name": "stdout",
     "output_type": "stream",
     "text": [
      "Доля из отсеянных операторов с проблемой большого числа пропусков звонков -  30.3 %\n"
     ]
    }
   ],
   "source": [
    "print('Доля из отсеянных операторов с проблемой большого числа пропусков звонков - ', round(operator_in.query('pas>=@norm_pass_in')['operator_id'].count()/operator_in.query('diff>=@norm_diff_in or pas>=@norm_pass_in')['operator_id'].count()*100, 1), '%')"
   ]
  },
  {
   "cell_type": "markdown",
   "metadata": {},
   "source": [
    " Причины низкой эффективности у операторов обзванивающих КЦ. "
   ]
  },
  {
   "cell_type": "code",
   "execution_count": 94,
   "metadata": {},
   "outputs": [
    {
     "name": "stdout",
     "output_type": "stream",
     "text": [
      "Доля из отсеянных операторов с проблемой недостаточного количества совершенных вызовов -  99.3 %\n"
     ]
    }
   ],
   "source": [
    "print('Доля из отсеянных операторов с проблемой недостаточного количества совершенных вызовов - ', round(operator_out.query('call_out<=@norm_call_out')['operator_id'].count()/operator_out.query('call_out<=@norm_call_out or time_out<=@norm_time_out')['operator_id'].count()*100, 1), '%')"
   ]
  },
  {
   "cell_type": "code",
   "execution_count": 95,
   "metadata": {},
   "outputs": [
    {
     "name": "stdout",
     "output_type": "stream",
     "text": [
      "Доля из отсеянных операторов с проблемой малой продолжительности звонков -  14.2 %\n"
     ]
    }
   ],
   "source": [
    "print('Доля из отсеянных операторов с проблемой малой продолжительности звонков - ', round(operator_out.query('time_out<=@norm_time_out')['operator_id'].count()/operator_out.query('call_out<=@norm_call_out or time_out<=@norm_time_out')['operator_id'].count()*100, 1), '%')"
   ]
  },
  {
   "cell_type": "markdown",
   "metadata": {},
   "source": [
    "### 5. Проверка статистических гипотез."
   ]
  },
  {
   "cell_type": "markdown",
   "metadata": {},
   "source": [
    "#### 5.1. Первая гипотеза\n",
    "Нулевая гипотеза - средняя продолжительность исходящих вызовов равна средней продолжительности входящих вызовов  \n",
    "Альтернативная гипотеза - средняя продолжительность исходящих вызовов меньше средней продолжительности входящих вызовов"
   ]
  },
  {
   "cell_type": "code",
   "execution_count": 96,
   "metadata": {},
   "outputs": [
    {
     "name": "stdout",
     "output_type": "stream",
     "text": [
      "p-значение: 5.834888552464747e-06\n",
      "Отвергаем нулевую гипотезу\n"
     ]
    }
   ],
   "source": [
    "data['one_call'] = data['call_duration']/data['calls_count']\n",
    "ultra_value = data.query('direction == \"in\"')['one_call']\n",
    "\n",
    "alpha = .05 \n",
    "\n",
    "results = st.ttest_ind(data.query('direction == \"out\"')['one_call'], ultra_value, equal_var = False)\n",
    "\n",
    "print('p-значение:', results.pvalue / 2)\n",
    "\n",
    "# тест односторонний влево:\n",
    "if (results.pvalue / 2 < alpha) and (data.query('direction == \"out\"')['one_call'].mean() < ultra_value.mean()):\n",
    "    print(\"Отвергаем нулевую гипотезу\")\n",
    "else:\n",
    "    print(\"Не получилось отвергнуть нулевую гипотезу\") "
   ]
  },
  {
   "cell_type": "code",
   "execution_count": 97,
   "metadata": {},
   "outputs": [
    {
     "data": {
      "text/plain": [
       "68.6368769214056"
      ]
     },
     "execution_count": 97,
     "metadata": {},
     "output_type": "execute_result"
    }
   ],
   "source": [
    "data.query('direction == \"in\"')['one_call'].mean()"
   ]
  },
  {
   "cell_type": "code",
   "execution_count": 98,
   "metadata": {},
   "outputs": [
    {
     "data": {
      "text/plain": [
       "63.82245923237345"
      ]
     },
     "execution_count": 98,
     "metadata": {},
     "output_type": "execute_result"
    }
   ],
   "source": [
    "data.query('direction == \"out\"')['one_call'].mean()"
   ]
  },
  {
   "cell_type": "markdown",
   "metadata": {},
   "source": [
    "<b> Нулевая гипотеза опровергнута.</b>  \n",
    "Высока вероятность того, что средняя продолжительность исходящих вызовов меньше средней продолжительности входящих. Медианы различаются менее чем на 10%, но разница статистически значима.  "
   ]
  },
  {
   "cell_type": "markdown",
   "metadata": {},
   "source": [
    "#### 5.2. Вторая гипотеза\n",
    "Нулевая гипотеза - среднее количество вызовов на одного оператора в выходные дни равно среднему количеству вызовов в будни.  \n",
    "Альтернативная гипотеза - среднее количество вызовов в выходные дни не равно среднему количеству вызовов в будни."
   ]
  },
  {
   "cell_type": "code",
   "execution_count": 99,
   "metadata": {},
   "outputs": [
    {
     "name": "stdout",
     "output_type": "stream",
     "text": [
      "p-значение: 0.1054051058687241\n",
      "Не получилось отвергнуть нулевую гипотезу\n"
     ]
    }
   ],
   "source": [
    "data['day_week'] = pd.DatetimeIndex(data['date']).weekday \n",
    "alpha = .05\n",
    "results = st.ttest_ind(data.query('day_week == 5 or day_week == 6')['calls_count'], data.query('day_week != 5 and day_week != 6')['calls_count'], equal_var = False)\n",
    "\n",
    "print('p-значение:', results.pvalue)\n",
    "\n",
    "if results.pvalue < alpha:\n",
    "    print(\"Отвергаем нулевую гипотезу\")\n",
    "else:\n",
    "    print(\"Не получилось отвергнуть нулевую гипотезу\") "
   ]
  },
  {
   "cell_type": "code",
   "execution_count": 100,
   "metadata": {},
   "outputs": [
    {
     "data": {
      "text/plain": [
       "17.44296724470135"
      ]
     },
     "execution_count": 100,
     "metadata": {},
     "output_type": "execute_result"
    }
   ],
   "source": [
    "data.query('day_week == 5 or day_week == 6')['calls_count'].mean()"
   ]
  },
  {
   "cell_type": "code",
   "execution_count": 101,
   "metadata": {},
   "outputs": [
    {
     "data": {
      "text/plain": [
       "16.36685050001144"
      ]
     },
     "execution_count": 101,
     "metadata": {},
     "output_type": "execute_result"
    }
   ],
   "source": [
    "data.query('day_week != 5 and day_week != 6')['calls_count'].mean()"
   ]
  },
  {
   "cell_type": "markdown",
   "metadata": {},
   "source": [
    "<b>Нулевая гипотеза подтверждена.</b>  \n",
    "Высока вероятность того, что среднее количество вызовов на одного оператора в выходные дни и будни одинаковые. Разница не является статистически значимой."
   ]
  },
  {
   "cell_type": "markdown",
   "metadata": {},
   "source": [
    "### 6. Выводы и рекомендации для заказчика."
   ]
  },
  {
   "cell_type": "markdown",
   "metadata": {},
   "source": [
    "<b> Изучение данных и предобработка </b>  \n",
    "\n",
    "Изучив данные выявили следующие проблемы.\n",
    " - Имеются пропуски в таблице telecom_dataset в internal и operator_id.\n",
    " - Неверные типы данных в таблице telecom_dataset у date и internal.\n",
    " - Неверные типы данных в таблице telecom_clients у date_start.  \n",
    " \n",
    "Заполнили 98,5% пропусков. Привели в порядок типы данных. Избавились от дубликатов.  \n",
    "\n",
    "\n",
    "Присвоили колл-центрам категории. Провели категоризацию по значению агрегированного параметра Длительность звонка (без учета времени ожидания). При равном количестве длительности звонков, сравнивали суммарное количество звонков.\n",
    " - Колл-центрам которые распределяют входящие звонки по своим операторам присвоили категорию 1. Таких КЦ 174.\n",
    " - Колл-центрам которые совершают исходящие вызовы силами операторов назначили категорию 2. Таких КЦ 133.\n",
    " - Клиентам зарегестрированным, но не имеющим статистику звонков назначили категорию 0. Таких КЦ 425.  \n",
    " \n",
    "<b>Исследовательский анализ</b>  \n",
    "\n",
    "1. <b>Изучение количества входящих вызовов и число пропущенных из них.  </b>  \n",
    "Рассмотрев распределение количества вызовов у КЦ принимающих звонки, ограничили выборку 120 звонками в день.  \n",
    "В эти границы попало 99.6 % данных.  \n",
    "Число вызовов растет в течение рассматриваемого периода, как и число пропущенных звонков. Пропорции относительно стабильны.  \n",
    "Доля пропущенных входящих вызовов составила 34.5%.  \n",
    "Среднее равно 8 вызовам в день, медиана - 3.    \n",
    "\n",
    "2. <b>Изучение времени ожидания ответа при входящих внешних вызовах и продолжительности входящих вызовов.  </b>  \n",
    "Изучив динамику изменения среднего ожидания ответа оператора видим, что среднее ожидание ответа оператора было достаточно волотильно на первом этапе, но затем показатель стабилизировался около 17-18 ед.  \n",
    "Рассмотрев распределение времени ожидания, ограничили выборку 100 ед. В эти границы попало 99.7 % данных.  \n",
    "Средний показатель ожидания ответа оператора равен 17 ед., медиана - 14, среднее отклонение - 14.  \n",
    "Рассмотрев распределение времени звонка, ограничили выборку 600 ед. В эти границы попало 99.5 % данных.  \n",
    "Средняя продолжительность звонка росла в период август-сентябрь, в период октябрь-декабрь относительно стабильна.  \n",
    "Средний показатель продолжительности звонка принимающего КЦ равен 68 ед., медиана - 38, среднее отклонение - 105.  \n",
    "<i>При постановке задачи было сказано, что продолжительность вызовов указана в минутах. Но, судя по полученным результатам, мы имеем дело с данными в секундах и будем оперировать этими единицами в дальнейшем.</i>  \n",
    "\n",
    "3. <b> Изучение количества исходящих вызовов и число недозвонов из них.</b>    \n",
    "Рассмотрев распределение суточного числа звонков сделанных операторами обзванивающих КЦ, ограничили выборку 600 звонками. В эти границы попадает 99.6 % данных.  \n",
    "Число вызовов растет в течение рассматриваемого периода. Но наиболее заметный всплеск был в первой декаде октября.  \n",
    "Доля успешных исходящих вызовов: 54.7 %  \n",
    "Среднее суточный показатель оператора равен 21 вызову в день, медиана - 6.  \n",
    "\n",
    "4. <b>Изучение продолжительности исходящих вызовов.</b>  \n",
    "Средняя продолжительность звонка обзванивающих КЦ росла в период август-сентябрь и была достаточно волотильна, а после стабилизировалась и стремится к показателю 80 секунд.  \n",
    "Рассмотрев распределение продолжительности звонков сделанных операторами обзванивающих КЦ, ограничим выборку 1000 секундами. В эти границы попадает 99.6 % данных.  \n",
    "Средняя продолжительность вызова 80 секунд, медиана равна 39,5 секундам.  \n",
    "\n",
    "5. <b>Изучение доли внутренних вызовов.</b>\n",
    "Проанализировав полученные данные можно сделать следующие выводы.    \n",
    "Доли внутренних вызовов невелика - 1,5% в прнимающих и 2,2% в обзванивающих. Серьезного влияния на выводы не оказывает.    \n",
    "Доли их средней продолжительности еще меньше  0.7% и 1,7% соответственно.    \n",
    "\n",
    "6. <b>Определение распределения нагрузки на операторов по дням недели.</b>  \n",
    "<b>Принимающие КЦ:   </b>  \n",
    "Число входящих вызовов уменьшается с пятницы по воскресенье.  \n",
    "В субботу и воскресенье задействовано меньше операторов. Вероятно часть КЦ работает по 5-дневной рабочей неделе.   \n",
    "Рассчитав количество вызовов на одного оператора наблюдаем снижение активности в пятницу, субботу и воскресенье. В данные дни количество вызовов на одного оператора меньше на 15%. Количество операторов в эти дни можно еще сократить.  \n",
    "<b>Обзванивающие КЦ:  </b>  \n",
    "Наблюдаем значительное снижение количества вызовов обзванивающих КЦ в субботу и воскресенье.  \n",
    "Наблюдаем снижение числа операторов в субботу и воскресенье визуально пропорциональное снижению числа вызовов.   \n",
    "Расчитали число вызовов на оператора. В отличие от принимающих КЦ, в обзванивающих КЦ мы не наблюдаем зависимости числа вызовов на оператора от дня недели. Снижение связано лишь с уменьшением операторов в выходные. Часть КЦ работает по 5-дневной неделе.  \n",
    "\n",
    "7. <b>Анализ количества клиентов и их динамики использования услуг провайдера, определение топ-клиентов для заказчика.</b>  \n",
    "Пиковое значение количества действующих КЦ - конец октября, и сопадает с окончанием периода регистрации новых КЦ. большая часть зарегестрированных КЦ не имеет статистики. Число КЦ принимающих на 1/3 больше числа КЦ обзванивающих.\n",
    "Выделили топ10 КС принимающих звонки и обзванивающих.  \n",
    "\n",
    "<b>Изучение результатов анализа.</b>\n",
    "\n",
    "1. <b>Критерии для Принимающих звонки колл-центров</b>\n",
    "- время ожидания ответа оператора  \n",
    "Норма предельного ожидания ответа оператора для принимающих КЦ  : 20.6 секунд  \n",
    "- доля пропущенных звонков  \n",
    "Долю предельного количества пропущенных звонков задали - 5%  \n",
    "\n",
    "2. <b>Критерии для обзванивающих КЦ</b>  \n",
    "- количество звонков совершенное оператором за рабочий день  \n",
    "Норма суточного количества звонков для операторов обзванивающих КЦ : 109 звонков\n",
    "- минимальная продолжительность среднего звонка  \n",
    "Норма минимальной продолжительности \"чистого\" среднего звонка для операторов  обзванивающих КЦ : 14 секунд  \n",
    "\n",
    "3. <b>Cписок неэффективных операторов</b>  \n",
    "\n",
    "119 операторов из 388 являются недостаточно эффективными в принимающих КЦ.  \n",
    "Доля из отсеянных операторов с проблемой длительного ожидания ответа -  82.4 %  \n",
    "Доля из отсеянных операторов с проблемой большого числа пропусков звонков -  30.3 %  \n",
    "\n",
    "565 операторов из 624 являются недостаточно эффективными в обзванивающих КЦ.  \n",
    "Доля из отсеянных операторов с проблемой недостаточного количества совершенных вызовов -  99.3 %  \n",
    "Доля из отсеянных операторов с проблемой малой продолжительности звонков -  14.2 %  \n",
    "\n",
    "4. <b>Определили для каждого  КЦ число неэффективных операторов. Выделили ТОП-10 для каждого типа КЦ.  </b>\n",
    "\n",
    "<b>Проверка статистических гипотез.</b>  \n",
    "1. Первая гипотеза  \n",
    " - Нулевая гипотеза - средняя продолжительность исходящих вызовов равна средней продолжительности входящих вызовов  \n",
    " - Альтернативная гипотеза - средняя продолжительность исходящих вызовов меньше средней продолжительности входящих вызовов   \n",
    " \n",
    "Нулевая гипотеза опровергнута.\n",
    "Высока вероятность того, что средняя продолжительность исходящих вызовов меньше средней продолжительности входящих. Медианы различаются менее чем на 10%, но разница статистически значима.  \n",
    "\n",
    "2. Вторая гипотеза\n",
    " - Нулевая гипотеза - среднее количество вызовов на одного оператора в выходные дни равно среднему количеству вызовов в будни.\n",
    " - Альтернативная гипотеза - среднее количество вызовов в выходные дни не равно среднему количеству вызовов в будни.\n",
    "   \n",
    "Нулевая гипотеза подтверждена.  \n",
    "Высока вероятность того, что среднее количество вызовов на одного оператора в выходные дни и будни одинаковые. Разница не является статистически значимой.  \n",
    "\n",
    "<b>Рекомендации для заказчика:</b>\n",
    "- есть ярко выраженная потребность в алгоритме определения неэффективных операторов \n",
    "- наиболее проблематичными являются обзванивающие КЦ, им и стоит в первую очередь предложить данную опцию. В частности клиенты 167497, 168062, 166680.\n",
    "- большая часть зарегистрированных КЦ не преиступило к работе, а именно 425 из 732. Возможно предложение нового алгоритма позволит скорее вовлечь данных клиентов в работу."
   ]
  },
  {
   "cell_type": "markdown",
   "metadata": {},
   "source": [
    "### 7. Ссылки на презентацию и дашборд."
   ]
  },
  {
   "cell_type": "markdown",
   "metadata": {},
   "source": [
    "Презентация:   \n",
    "\n",
    "<a href=\"https://disk.yandex.ru/i/Ekzow1MBsv8JIg\"> Проект «Телеком». Поиск неэффективных операторов<b>.pptx</b></a>  \n",
    "\n",
    "\n",
    "<a href=\"https://disk.yandex.ru/i/WWuKD9eOZPLe_A\"> Проект «Телеком». Поиск неэффективных операторов<b>.pdf</b></a>\n",
    "\n",
    "\n",
    "Дашборд:   \n",
    "<a href=\"https://public.tableau.com/views/Final_proekt_Telecom/Dashboard1?:language=en-US&:display_count=n&:origin=viz_share_link\"> Проект «Телеком». Поиск неэффективных операторов<b>.pdf</b></a>\n",
    "\n"
   ]
  }
 ],
 "metadata": {
  "ExecuteTimeLog": [
   {
    "duration": 77,
    "start_time": "2022-09-02T06:12:03.556Z"
   }
  ],
  "kernelspec": {
   "display_name": "Python 3 (ipykernel)",
   "language": "python",
   "name": "python3"
  },
  "language_info": {
   "codemirror_mode": {
    "name": "ipython",
    "version": 3
   },
   "file_extension": ".py",
   "mimetype": "text/x-python",
   "name": "python",
   "nbconvert_exporter": "python",
   "pygments_lexer": "ipython3",
   "version": "3.9.7"
  },
  "toc": {
   "base_numbering": 1,
   "nav_menu": {},
   "number_sections": true,
   "sideBar": true,
   "skip_h1_title": true,
   "title_cell": "Table of Contents",
   "title_sidebar": "Contents",
   "toc_cell": false,
   "toc_position": {},
   "toc_section_display": true,
   "toc_window_display": false
  }
 },
 "nbformat": 4,
 "nbformat_minor": 2
}
